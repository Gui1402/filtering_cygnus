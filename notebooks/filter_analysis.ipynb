{
 "cells": [
  {
   "cell_type": "code",
   "execution_count": 1,
   "metadata": {
    "colab": {},
    "colab_type": "code",
    "id": "JhmBej-yGWxg"
   },
   "outputs": [],
   "source": [
    "import sys\n",
    "import numpy as np\n",
    "import pandas as pd\n",
    "import matplotlib.pyplot as plt\n",
    "from scipy.ndimage import convolve\n",
    "from scipy import signal\n",
    "import h5py\n",
    "import glob\n",
    "import itertools\n",
    "from ast import literal_eval\n",
    "from scipy.interpolate import interp1d\n",
    "sys.path.append('../src')\n",
    "from settings import FilterSettings\n",
    "\n",
    "result_settings = FilterSettings()\n",
    "\n",
    "\n",
    "\n",
    "def roc_params_build(rocx, rocy, ftype):\n",
    "    output = {}\n",
    "    bound_sup = result_settings.sup\n",
    "    bound_inf = result_settings.inf\n",
    "    basis = np.linspace(bound_inf, bound_sup, result_settings.roc_grid)\n",
    "    for i in range(0, rocx.shape[1]):\n",
    "        xt = interp1d(rocx[:,i], basis, fill_value = 'extrapolate')\n",
    "        yt = interp1d(rocy[:,i],basis, fill_value = 'extrapolate')\n",
    "        tx = interp1d(basis,rocx[:,i], fill_value = 'extrapolate')\n",
    "        ty = interp1d(basis,rocy[:,i], fill_value = 'extrapolate')\n",
    "        xy = interp1d(rocx[:,i], rocy[:,i], fill_value = 'extrapolate')\n",
    "        yx = interp1d(rocy[:,i], rocx[:,i], fill_value = 'extrapolate')\n",
    "        output[ftype[i]] = [[xt,tx],[yt,ty],[xy,yx]]\n",
    "   \n",
    "    return output\n",
    "\n",
    "def bug_array_fix(df, column):\n",
    "    df_out = df[column]\n",
    "    df_out = df_out.str.replace('\\n',',').str.replace('  ',',').str.replace('[','').str.replace(']','').str.replace(' ',',').str.split(',')\n",
    "    return df_out.apply(lambda x: (np.array(x)[np.array(x)!='']).astype(np.float))\n",
    "\n",
    "def get_roc_params(dfx,dfy, sg_eff = 0.99):\n",
    "    roc_x = np.array(np.matrix(dfx.tolist()))\n",
    "    roc_y = np.array(np.matrix(dfy.tolist()))\n",
    "    auc = abs(np.diff(np.array(roc_x))*np.array(roc_y)[:,:-1]).sum(axis = 1)\n",
    "    bg_fix = []\n",
    "    for i in range(0,roc_x.shape[0]):\n",
    "        x = np.array(roc_x[i,:])\n",
    "        y = np.array(roc_y[i,:])\n",
    "        f = interp1d(x,y,fill_value = 'extrapolate')\n",
    "        bg_fix.append(f(sg_eff))\n",
    "    return auc, bg_fix, roc_y[:,index]\n",
    "\n",
    "\n",
    "def roc_params(dfx, dfy, thresholds):\n",
    "  bound_sup = result_settings.sup\n",
    "  bound_inf = result_settings.inf\n",
    "  basis = np.linspace(bound_inf, bound_sup, result_settings.roc_grid)\n",
    "  roc_x = np.array(np.matrix(dfx.tolist()))\n",
    "  roc_y = np.array(np.matrix(dfy.tolist()))\n",
    "  auc = abs(np.diff(np.array(roc_x))*np.array(roc_y)[:,:-1]).sum(axis = 1)\n",
    "  signal_eff = np.zeros((roc_x.shape[0], len(thresholds)))\n",
    "  bg_eff = np.zeros((roc_x.shape[0], len(thresholds)))\n",
    "  roc_point = np.zeros((roc_x.shape[0], len(thresholds)))\n",
    "  for (n, t) in list(enumerate(thresholds)):\n",
    "    for i in range(0,roc_x.shape[0]):\n",
    "      x = np.array(roc_x[i,:])\n",
    "      y = np.array(roc_y[i,:])\n",
    "      fx = interp1d(basis, x, fill_value = 'extrapolate')\n",
    "      fy = interp1d(basis, y, fill_value = 'extrapolate')\n",
    "      fxy = interp1d(x, y, fill_value = 'extrapolate')\n",
    "      signal_eff[i, n] = fx(t)\n",
    "      bg_eff[i, n] = fy(t)\n",
    "      roc_point[i, n] = fxy(t)\n",
    "   \n",
    "  return auc, signal_eff, bg_eff, roc_point \n",
    "\n",
    "\n",
    "\n",
    "def scatter(df_filt, key_analysis, labels, title):\n",
    "    import matplotlib\n",
    "    #key_analysis = ['Intensity mean','delta_bg_eff_1_cumulative']\n",
    "    fig = plt.figure(figsize=(12,8))\n",
    "    x           = df_filt[key_analysis[0]]\n",
    "    y           = df_filt[key_analysis[1]]\n",
    "    label_name  = df_filt.ftype\n",
    "\n",
    "    ## enconding labels\n",
    "    from sklearn import preprocessing\n",
    "    le          = preprocessing.LabelEncoder()\n",
    "    le.fit(label_name)\n",
    "    label       = le.transform(label_name)\n",
    "\n",
    "    ## selecionando cores para plot de forma randomica\n",
    "    np.random.seed(10)\n",
    "    colors = np.random.rand(len(np.unique(label)),3)\n",
    "\n",
    "    ## scatter plots pelas cores de cada classe (w)\n",
    "    plt.scatter(x, 100*y, c=label, alpha=0.3,cmap=matplotlib.colors.ListedColormap(colors))\n",
    "\n",
    "    ## ajustes do plot e barra de exibicao\n",
    "    plt.xlabel(labels[0],fontsize = 14)\n",
    "    plt.ylabel(labels[1],fontsize = 12)\n",
    "    plt.title(title)\n",
    "    plt.grid()\n",
    "    cb = plt.colorbar()\n",
    "    loc = np.arange(0,max(label),max(label)/float(len(colors)))\n",
    "    cb.set_ticks(loc+0.25)\n",
    "    ## criando labels na colorbar\n",
    "    ticklabels = []\n",
    "    for i in np.unique(label_name):\n",
    "        ticklabels.append(i)\n",
    "\n",
    "    cb.set_ticklabels(ticklabels)"
   ]
  },
  {
   "cell_type": "code",
   "execution_count": 2,
   "metadata": {
    "colab": {
     "base_uri": "https://localhost:8080/",
     "height": 97
    },
    "colab_type": "code",
    "id": "-sLFdYjqOz7-",
    "outputId": "ec65add4-d38b-465a-d21e-426c574154a4"
   },
   "outputs": [
    {
     "data": {
      "text/html": [
       "<div>\n",
       "<style scoped>\n",
       "    .dataframe tbody tr th:only-of-type {\n",
       "        vertical-align: middle;\n",
       "    }\n",
       "\n",
       "    .dataframe tbody tr th {\n",
       "        vertical-align: top;\n",
       "    }\n",
       "\n",
       "    .dataframe thead th {\n",
       "        text-align: right;\n",
       "    }\n",
       "</style>\n",
       "<table border=\"1\" class=\"dataframe\">\n",
       "  <thead>\n",
       "    <tr style=\"text-align: right;\">\n",
       "      <th></th>\n",
       "      <th>SNR</th>\n",
       "      <th>w_size</th>\n",
       "      <th>Energy</th>\n",
       "      <th>Area</th>\n",
       "      <th>filter</th>\n",
       "      <th>window</th>\n",
       "      <th>ROCx</th>\n",
       "      <th>ROCy</th>\n",
       "      <th>Energy Estimated</th>\n",
       "    </tr>\n",
       "  </thead>\n",
       "  <tbody>\n",
       "    <tr>\n",
       "      <th>0</th>\n",
       "      <td>-55.907722</td>\n",
       "      <td>1.0</td>\n",
       "      <td>2539.0</td>\n",
       "      <td>561.0</td>\n",
       "      <td>unsupervised_wiener</td>\n",
       "      <td>1.0</td>\n",
       "      <td>[1.         1.         1.         1.         1...</td>\n",
       "      <td>[0.00000000e+00 0.00000000e+00 0.00000000e+00 ...</td>\n",
       "      <td>[2113.50280986 2113.50280986 2113.50280986 211...</td>\n",
       "    </tr>\n",
       "    <tr>\n",
       "      <th>1</th>\n",
       "      <td>-56.621968</td>\n",
       "      <td>1.0</td>\n",
       "      <td>1683.0</td>\n",
       "      <td>677.0</td>\n",
       "      <td>unsupervised_wiener</td>\n",
       "      <td>1.0</td>\n",
       "      <td>[1.         1.         1.         1.         1...</td>\n",
       "      <td>[0.00000000e+00 0.00000000e+00 0.00000000e+00 ...</td>\n",
       "      <td>[1480.64514131 1480.64514131 1480.64514131 148...</td>\n",
       "    </tr>\n",
       "    <tr>\n",
       "      <th>2</th>\n",
       "      <td>-51.890236</td>\n",
       "      <td>1.0</td>\n",
       "      <td>4110.0</td>\n",
       "      <td>925.0</td>\n",
       "      <td>unsupervised_wiener</td>\n",
       "      <td>1.0</td>\n",
       "      <td>[1.         1.         1.         1.         1...</td>\n",
       "      <td>[0.00000000e+00 0.00000000e+00 0.00000000e+00 ...</td>\n",
       "      <td>[3028.64513462 3028.64513462 3028.64513462 302...</td>\n",
       "    </tr>\n",
       "    <tr>\n",
       "      <th>3</th>\n",
       "      <td>-56.055058</td>\n",
       "      <td>1.0</td>\n",
       "      <td>2123.0</td>\n",
       "      <td>703.0</td>\n",
       "      <td>unsupervised_wiener</td>\n",
       "      <td>1.0</td>\n",
       "      <td>[1.         1.         1.         1.         1...</td>\n",
       "      <td>[0.00000000e+00 0.00000000e+00 0.00000000e+00 ...</td>\n",
       "      <td>[1736.39509241 1736.39509241 1736.39509241 173...</td>\n",
       "    </tr>\n",
       "    <tr>\n",
       "      <th>4</th>\n",
       "      <td>-51.694062</td>\n",
       "      <td>1.0</td>\n",
       "      <td>4106.0</td>\n",
       "      <td>942.0</td>\n",
       "      <td>unsupervised_wiener</td>\n",
       "      <td>1.0</td>\n",
       "      <td>[1.         1.         1.         1.         1...</td>\n",
       "      <td>[0.00000000e+00 0.00000000e+00 0.00000000e+00 ...</td>\n",
       "      <td>[3171.81293376 3171.81293376 3171.81293376 317...</td>\n",
       "    </tr>\n",
       "  </tbody>\n",
       "</table>\n",
       "</div>"
      ],
      "text/plain": [
       "         SNR  w_size  Energy   Area               filter  window  \\\n",
       "0 -55.907722     1.0  2539.0  561.0  unsupervised_wiener     1.0   \n",
       "1 -56.621968     1.0  1683.0  677.0  unsupervised_wiener     1.0   \n",
       "2 -51.890236     1.0  4110.0  925.0  unsupervised_wiener     1.0   \n",
       "3 -56.055058     1.0  2123.0  703.0  unsupervised_wiener     1.0   \n",
       "4 -51.694062     1.0  4106.0  942.0  unsupervised_wiener     1.0   \n",
       "\n",
       "                                                ROCx  \\\n",
       "0  [1.         1.         1.         1.         1...   \n",
       "1  [1.         1.         1.         1.         1...   \n",
       "2  [1.         1.         1.         1.         1...   \n",
       "3  [1.         1.         1.         1.         1...   \n",
       "4  [1.         1.         1.         1.         1...   \n",
       "\n",
       "                                                ROCy  \\\n",
       "0  [0.00000000e+00 0.00000000e+00 0.00000000e+00 ...   \n",
       "1  [0.00000000e+00 0.00000000e+00 0.00000000e+00 ...   \n",
       "2  [0.00000000e+00 0.00000000e+00 0.00000000e+00 ...   \n",
       "3  [0.00000000e+00 0.00000000e+00 0.00000000e+00 ...   \n",
       "4  [0.00000000e+00 0.00000000e+00 0.00000000e+00 ...   \n",
       "\n",
       "                                    Energy Estimated  \n",
       "0  [2113.50280986 2113.50280986 2113.50280986 211...  \n",
       "1  [1480.64514131 1480.64514131 1480.64514131 148...  \n",
       "2  [3028.64513462 3028.64513462 3028.64513462 302...  \n",
       "3  [1736.39509241 1736.39509241 1736.39509241 173...  \n",
       "4  [3171.81293376 3171.81293376 3171.81293376 317...  "
      ]
     },
     "execution_count": 2,
     "metadata": {},
     "output_type": "execute_result"
    }
   ],
   "source": [
    "file_dir = result_settings.output_file_path + result_settings.output_file_name+'.csv'\n",
    "df = pd.read_csv(file_dir)\n",
    "df.head()"
   ]
  },
  {
   "cell_type": "code",
   "execution_count": 3,
   "metadata": {
    "colab": {},
    "colab_type": "code",
    "id": "C8k95vo4Oz8E"
   },
   "outputs": [],
   "source": [
    "df['ROCx'] = bug_array_fix(df,'ROCx')\n",
    "df['ROCy'] = bug_array_fix(df,'ROCy')"
   ]
  },
  {
   "cell_type": "code",
   "execution_count": 4,
   "metadata": {
    "colab": {
     "base_uri": "https://localhost:8080/",
     "height": 105
    },
    "colab_type": "code",
    "id": "urLvrVcLKoXg",
    "outputId": "ec801b6f-26ab-4cfe-ff7f-bc976c530c94"
   },
   "outputs": [
    {
     "name": "stderr",
     "output_type": "stream",
     "text": [
      "/home/guilherme/anaconda3/lib/python3.7/site-packages/scipy/interpolate/interpolate.py:609: RuntimeWarning: divide by zero encountered in true_divide\n",
      "  slope = (y_hi - y_lo) / (x_hi - x_lo)[:, None]\n",
      "/home/guilherme/anaconda3/lib/python3.7/site-packages/scipy/interpolate/interpolate.py:609: RuntimeWarning: invalid value encountered in true_divide\n",
      "  slope = (y_hi - y_lo) / (x_hi - x_lo)[:, None]\n"
     ]
    }
   ],
   "source": [
    "t_values    = [.5,1.,1.5]\n",
    "new_sg_columns = ['sg_eff_'+str(i) for i in t_values]\n",
    "new_bg_columns = ['bg_eff_'+str(i) for i in t_values] \n",
    "auc,sg,bg,_ = roc_params(df['ROCx'], df['ROCy'],[1,1.5,2])\n",
    "efficiency_df = pd.DataFrame(np.append(sg,bg,axis = 1), columns=new_sg_columns+new_bg_columns)\n",
    "df = pd.concat([df,efficiency_df],axis = 1)"
   ]
  },
  {
   "cell_type": "code",
   "execution_count": 6,
   "metadata": {
    "colab": {
     "base_uri": "https://localhost:8080/",
     "height": 638
    },
    "colab_type": "code",
    "id": "22Btb0xzOz8J",
    "outputId": "2d79ff76-2d41-4819-d6e3-e3619d39fe3e"
   },
   "outputs": [
    {
     "data": {
      "text/html": [
       "<div>\n",
       "<style scoped>\n",
       "    .dataframe tbody tr th:only-of-type {\n",
       "        vertical-align: middle;\n",
       "    }\n",
       "\n",
       "    .dataframe tbody tr th {\n",
       "        vertical-align: top;\n",
       "    }\n",
       "\n",
       "    .dataframe thead th {\n",
       "        text-align: right;\n",
       "    }\n",
       "</style>\n",
       "<table border=\"1\" class=\"dataframe\">\n",
       "  <thead>\n",
       "    <tr style=\"text-align: right;\">\n",
       "      <th></th>\n",
       "      <th>SNR</th>\n",
       "      <th>w_size</th>\n",
       "      <th>Energy</th>\n",
       "      <th>Area</th>\n",
       "      <th>filter</th>\n",
       "      <th>window</th>\n",
       "      <th>ROCx</th>\n",
       "      <th>ROCy</th>\n",
       "      <th>Energy Estimated</th>\n",
       "      <th>sg_eff_0.5</th>\n",
       "      <th>sg_eff_1.0</th>\n",
       "      <th>sg_eff_1.5</th>\n",
       "      <th>bg_eff_0.5</th>\n",
       "      <th>bg_eff_1.0</th>\n",
       "      <th>bg_eff_1.5</th>\n",
       "      <th>image_num</th>\n",
       "    </tr>\n",
       "  </thead>\n",
       "  <tbody>\n",
       "    <tr>\n",
       "      <th>0</th>\n",
       "      <td>-55.907722</td>\n",
       "      <td>1.0</td>\n",
       "      <td>2539.0</td>\n",
       "      <td>561.0</td>\n",
       "      <td>unsupervised_wiener</td>\n",
       "      <td>1.0</td>\n",
       "      <td>[1.0, 1.0, 1.0, 1.0, 1.0, 1.0, 1.0, 1.0, 1.0, ...</td>\n",
       "      <td>[0.0, 0.0, 0.0, 0.0, 0.0, 3.8228784e-06, 3.822...</td>\n",
       "      <td>[2113.50280986 2113.50280986 2113.50280986 211...</td>\n",
       "      <td>0.973708</td>\n",
       "      <td>0.921234</td>\n",
       "      <td>0.879679</td>\n",
       "      <td>0.093709</td>\n",
       "      <td>0.167556</td>\n",
       "      <td>0.258840</td>\n",
       "      <td>0</td>\n",
       "    </tr>\n",
       "    <tr>\n",
       "      <th>1</th>\n",
       "      <td>-56.621968</td>\n",
       "      <td>1.0</td>\n",
       "      <td>1683.0</td>\n",
       "      <td>677.0</td>\n",
       "      <td>unsupervised_wiener</td>\n",
       "      <td>1.0</td>\n",
       "      <td>[1.0, 1.0, 1.0, 1.0, 1.0, 1.0, 1.0, 1.0, 1.0, ...</td>\n",
       "      <td>[0.0, 0.0, 0.0, 0.0, 0.0, 3.82457442e-06, 3.82...</td>\n",
       "      <td>[1480.64514131 1480.64514131 1480.64514131 148...</td>\n",
       "      <td>0.958272</td>\n",
       "      <td>0.902419</td>\n",
       "      <td>0.824225</td>\n",
       "      <td>0.092390</td>\n",
       "      <td>0.165622</td>\n",
       "      <td>0.256605</td>\n",
       "      <td>1</td>\n",
       "    </tr>\n",
       "    <tr>\n",
       "      <th>2</th>\n",
       "      <td>-51.890236</td>\n",
       "      <td>1.0</td>\n",
       "      <td>4110.0</td>\n",
       "      <td>925.0</td>\n",
       "      <td>unsupervised_wiener</td>\n",
       "      <td>1.0</td>\n",
       "      <td>[1.0, 1.0, 1.0, 1.0, 1.0, 1.0, 1.0, 1.0, 1.0, ...</td>\n",
       "      <td>[0.0, 0.0, 0.0, 0.0, 0.0, 3.82820545e-06, 3.82...</td>\n",
       "      <td>[3028.64513462 3028.64513462 3028.64513462 302...</td>\n",
       "      <td>0.958919</td>\n",
       "      <td>0.907635</td>\n",
       "      <td>0.846757</td>\n",
       "      <td>0.092303</td>\n",
       "      <td>0.165518</td>\n",
       "      <td>0.255819</td>\n",
       "      <td>2</td>\n",
       "    </tr>\n",
       "  </tbody>\n",
       "</table>\n",
       "</div>"
      ],
      "text/plain": [
       "         SNR  w_size  Energy   Area               filter  window  \\\n",
       "0 -55.907722     1.0  2539.0  561.0  unsupervised_wiener     1.0   \n",
       "1 -56.621968     1.0  1683.0  677.0  unsupervised_wiener     1.0   \n",
       "2 -51.890236     1.0  4110.0  925.0  unsupervised_wiener     1.0   \n",
       "\n",
       "                                                ROCx  \\\n",
       "0  [1.0, 1.0, 1.0, 1.0, 1.0, 1.0, 1.0, 1.0, 1.0, ...   \n",
       "1  [1.0, 1.0, 1.0, 1.0, 1.0, 1.0, 1.0, 1.0, 1.0, ...   \n",
       "2  [1.0, 1.0, 1.0, 1.0, 1.0, 1.0, 1.0, 1.0, 1.0, ...   \n",
       "\n",
       "                                                ROCy  \\\n",
       "0  [0.0, 0.0, 0.0, 0.0, 0.0, 3.8228784e-06, 3.822...   \n",
       "1  [0.0, 0.0, 0.0, 0.0, 0.0, 3.82457442e-06, 3.82...   \n",
       "2  [0.0, 0.0, 0.0, 0.0, 0.0, 3.82820545e-06, 3.82...   \n",
       "\n",
       "                                    Energy Estimated  sg_eff_0.5  sg_eff_1.0  \\\n",
       "0  [2113.50280986 2113.50280986 2113.50280986 211...    0.973708    0.921234   \n",
       "1  [1480.64514131 1480.64514131 1480.64514131 148...    0.958272    0.902419   \n",
       "2  [3028.64513462 3028.64513462 3028.64513462 302...    0.958919    0.907635   \n",
       "\n",
       "   sg_eff_1.5  bg_eff_0.5  bg_eff_1.0  bg_eff_1.5  image_num  \n",
       "0    0.879679    0.093709    0.167556    0.258840          0  \n",
       "1    0.824225    0.092390    0.165622    0.256605          1  \n",
       "2    0.846757    0.092303    0.165518    0.255819          2  "
      ]
     },
     "execution_count": 6,
     "metadata": {},
     "output_type": "execute_result"
    }
   ],
   "source": [
    "index = list(range(0,100))\n",
    "n_size = df.shape[0]//100\n",
    "indexes = n_size*index\n",
    "df['image_num'] = indexes\n",
    "df.head(3)"
   ]
  },
  {
   "cell_type": "code",
   "execution_count": 7,
   "metadata": {
    "colab": {
     "base_uri": "https://localhost:8080/",
     "height": 86
    },
    "colab_type": "code",
    "id": "-sPGTDphOz8O",
    "outputId": "acad3fc2-4f7f-4b34-d880-a65a7cbee4e8"
   },
   "outputs": [
    {
     "data": {
      "text/html": [
       "<div>\n",
       "<style scoped>\n",
       "    .dataframe tbody tr th:only-of-type {\n",
       "        vertical-align: middle;\n",
       "    }\n",
       "\n",
       "    .dataframe tbody tr th {\n",
       "        vertical-align: top;\n",
       "    }\n",
       "\n",
       "    .dataframe thead th {\n",
       "        text-align: right;\n",
       "    }\n",
       "</style>\n",
       "<table border=\"1\" class=\"dataframe\">\n",
       "  <thead>\n",
       "    <tr style=\"text-align: right;\">\n",
       "      <th></th>\n",
       "      <th>SNR</th>\n",
       "      <th>w_size</th>\n",
       "      <th>Energy</th>\n",
       "      <th>Area</th>\n",
       "      <th>filter</th>\n",
       "      <th>window</th>\n",
       "      <th>ROCx</th>\n",
       "      <th>ROCy</th>\n",
       "      <th>Energy Estimated</th>\n",
       "      <th>sg_eff_0.5</th>\n",
       "      <th>...</th>\n",
       "      <th>delta_bg_eff_1.0</th>\n",
       "      <th>delta_bg_eff_1.5</th>\n",
       "      <th>delta_SNR</th>\n",
       "      <th>delta_sg_eff_0.5_cumulative</th>\n",
       "      <th>delta_sg_eff_1.0_cumulative</th>\n",
       "      <th>delta_sg_eff_1.5_cumulative</th>\n",
       "      <th>delta_bg_eff_0.5_cumulative</th>\n",
       "      <th>delta_bg_eff_1.0_cumulative</th>\n",
       "      <th>delta_bg_eff_1.5_cumulative</th>\n",
       "      <th>delta_SNR_cumulative</th>\n",
       "    </tr>\n",
       "  </thead>\n",
       "  <tbody>\n",
       "  </tbody>\n",
       "</table>\n",
       "<p>0 rows × 30 columns</p>\n",
       "</div>"
      ],
      "text/plain": [
       "Empty DataFrame\n",
       "Columns: [SNR, w_size, Energy, Area, filter, window, ROCx, ROCy, Energy Estimated, sg_eff_0.5, sg_eff_1.0, sg_eff_1.5, bg_eff_0.5, bg_eff_1.0, bg_eff_1.5, image_num, delta_sg_eff_0.5, delta_sg_eff_1.0, delta_sg_eff_1.5, delta_bg_eff_0.5, delta_bg_eff_1.0, delta_bg_eff_1.5, delta_SNR, delta_sg_eff_0.5_cumulative, delta_sg_eff_1.0_cumulative, delta_sg_eff_1.5_cumulative, delta_bg_eff_0.5_cumulative, delta_bg_eff_1.0_cumulative, delta_bg_eff_1.5_cumulative, delta_SNR_cumulative]\n",
       "Index: []\n",
       "\n",
       "[0 rows x 30 columns]"
      ]
     },
     "execution_count": 7,
     "metadata": {},
     "output_type": "execute_result"
    }
   ],
   "source": [
    "deltas = ['delta_' + st for st in list(efficiency_df.columns) + ['SNR']]\n",
    "cumulatives = [i + '_cumulative' for i in deltas]\n",
    "columns = list(df.columns) + deltas + cumulatives\n",
    "dfObj = pd.DataFrame(columns=columns)\n",
    "dfObj"
   ]
  },
  {
   "cell_type": "code",
   "execution_count": 8,
   "metadata": {
    "colab": {},
    "colab_type": "code",
    "id": "ZsSLIc4cOz8S"
   },
   "outputs": [],
   "source": [
    "values = list(df.groupby(by=['image_num','filter']))\n",
    "data = pd.DataFrame([],columns = values[0][1].columns)"
   ]
  },
  {
   "cell_type": "code",
   "execution_count": 9,
   "metadata": {
    "colab": {
     "base_uri": "https://localhost:8080/",
     "height": 394
    },
    "colab_type": "code",
    "id": "MK5bBljMOz8W",
    "outputId": "8daa34aa-de67-41a5-a87b-ec78efd3776d"
   },
   "outputs": [
    {
     "name": "stderr",
     "output_type": "stream",
     "text": [
      "/home/guilherme/anaconda3/lib/python3.7/site-packages/pandas/core/frame.py:6692: FutureWarning: Sorting because non-concatenation axis is not aligned. A future version\n",
      "of pandas will change to not sort by default.\n",
      "\n",
      "To accept the future behavior, pass 'sort=False'.\n",
      "\n",
      "To retain the current behavior and silence the warning, pass 'sort=True'.\n",
      "\n",
      "  sort=sort)\n"
     ]
    }
   ],
   "source": [
    "#data = dict((k,[]) for k in deltas+cumulatives)\n",
    "#data = pd.DataFrame([],columns = aux.columns)\n",
    "for i in range(0,len(values)):\n",
    "    aux = values[i][1]\n",
    "    for key1,key2 in zip(deltas, cumulatives):\n",
    "        diff = np.pad(np.diff(aux[key1.split('delta_')[1]]),(1,0),'constant')\n",
    "        diff_cum = diff.cumsum()\n",
    "        #data[key1] = np.append(data[key1],diff)\n",
    "        #data[key2] = np.append(data[key2],diff_cum)\n",
    "        aux[key1] = diff\n",
    "        aux[key2] = diff_cum\n",
    "        #data.columns = aux.columns\n",
    "    data = data.append(aux)\n",
    "    #aux = aux[aux.columns]    \n",
    "    #dfObj = pd.concat([dfObj,aux],axis = 0)    \n",
    "#dfObj.head(3)        "
   ]
  },
  {
   "cell_type": "code",
   "execution_count": 10,
   "metadata": {},
   "outputs": [],
   "source": [
    "df = data\n",
    "df['Intensity mean'] = df['Energy']/df['Area']"
   ]
  },
  {
   "cell_type": "code",
   "execution_count": 11,
   "metadata": {
    "colab": {
     "base_uri": "https://localhost:8080/",
     "height": 638
    },
    "colab_type": "code",
    "id": "iIFTnR_bOz8f",
    "outputId": "7f3cfd32-db4b-4a43-f766-084c58a93751"
   },
   "outputs": [
    {
     "data": {
      "text/html": [
       "<div>\n",
       "<style scoped>\n",
       "    .dataframe tbody tr th:only-of-type {\n",
       "        vertical-align: middle;\n",
       "    }\n",
       "\n",
       "    .dataframe tbody tr th {\n",
       "        vertical-align: top;\n",
       "    }\n",
       "\n",
       "    .dataframe thead th {\n",
       "        text-align: right;\n",
       "    }\n",
       "</style>\n",
       "<table border=\"1\" class=\"dataframe\">\n",
       "  <thead>\n",
       "    <tr style=\"text-align: right;\">\n",
       "      <th></th>\n",
       "      <th>Area</th>\n",
       "      <th>Energy</th>\n",
       "      <th>Energy Estimated</th>\n",
       "      <th>ROCx</th>\n",
       "      <th>ROCy</th>\n",
       "      <th>SNR</th>\n",
       "      <th>bg_eff_0.5</th>\n",
       "      <th>bg_eff_1.0</th>\n",
       "      <th>bg_eff_1.5</th>\n",
       "      <th>delta_SNR</th>\n",
       "      <th>...</th>\n",
       "      <th>delta_sg_eff_1.0_cumulative</th>\n",
       "      <th>delta_sg_eff_1.5</th>\n",
       "      <th>delta_sg_eff_1.5_cumulative</th>\n",
       "      <th>image_num</th>\n",
       "      <th>sg_eff_0.5</th>\n",
       "      <th>sg_eff_1.0</th>\n",
       "      <th>sg_eff_1.5</th>\n",
       "      <th>w_size</th>\n",
       "      <th>Intensity mean</th>\n",
       "      <th>ftype</th>\n",
       "    </tr>\n",
       "  </thead>\n",
       "  <tbody>\n",
       "    <tr>\n",
       "      <th>0</th>\n",
       "      <td>561.0</td>\n",
       "      <td>2539.0</td>\n",
       "      <td>[2113.50280986 2113.50280986 2113.50280986 211...</td>\n",
       "      <td>[1.0, 1.0, 1.0, 1.0, 1.0, 1.0, 1.0, 1.0, 1.0, ...</td>\n",
       "      <td>[0.0, 0.0, 0.0, 0.0, 0.0, 3.8228784e-06, 3.822...</td>\n",
       "      <td>-55.907722</td>\n",
       "      <td>0.093709</td>\n",
       "      <td>0.167556</td>\n",
       "      <td>0.258840</td>\n",
       "      <td>0.000000</td>\n",
       "      <td>...</td>\n",
       "      <td>0.000000</td>\n",
       "      <td>0.000000</td>\n",
       "      <td>0.000000</td>\n",
       "      <td>0</td>\n",
       "      <td>0.973708</td>\n",
       "      <td>0.921234</td>\n",
       "      <td>0.879679</td>\n",
       "      <td>1.0</td>\n",
       "      <td>4.525847</td>\n",
       "      <td>unsupervised_wiener, window = 1.0</td>\n",
       "    </tr>\n",
       "    <tr>\n",
       "      <th>100</th>\n",
       "      <td>561.0</td>\n",
       "      <td>2539.0</td>\n",
       "      <td>[2113.50280986 2113.50280986 2113.50280986 211...</td>\n",
       "      <td>[1.0, 1.0, 1.0, 1.0, 1.0, 1.0, 1.0, 1.0, 1.0, ...</td>\n",
       "      <td>[0.0, 0.0, 0.0, 0.0, 0.0, 0.0, 3.8228784e-06, ...</td>\n",
       "      <td>-55.344554</td>\n",
       "      <td>0.091761</td>\n",
       "      <td>0.163179</td>\n",
       "      <td>0.252648</td>\n",
       "      <td>0.563168</td>\n",
       "      <td>...</td>\n",
       "      <td>0.016154</td>\n",
       "      <td>0.011141</td>\n",
       "      <td>0.011141</td>\n",
       "      <td>0</td>\n",
       "      <td>0.977273</td>\n",
       "      <td>0.937389</td>\n",
       "      <td>0.890820</td>\n",
       "      <td>3.0</td>\n",
       "      <td>4.525847</td>\n",
       "      <td>unsupervised_wiener, window = 3.0</td>\n",
       "    </tr>\n",
       "    <tr>\n",
       "      <th>200</th>\n",
       "      <td>561.0</td>\n",
       "      <td>2539.0</td>\n",
       "      <td>[2113.50280986 2113.50280986 2113.50280986 211...</td>\n",
       "      <td>[1.0, 1.0, 1.0, 1.0, 1.0, 1.0, 1.0, 1.0, 1.0, ...</td>\n",
       "      <td>[0.0, 0.0, 0.0, 0.0, 0.0, 3.8228784e-06, 3.822...</td>\n",
       "      <td>-55.814775</td>\n",
       "      <td>0.092097</td>\n",
       "      <td>0.163567</td>\n",
       "      <td>0.250905</td>\n",
       "      <td>-0.470221</td>\n",
       "      <td>...</td>\n",
       "      <td>0.003676</td>\n",
       "      <td>-0.008467</td>\n",
       "      <td>0.002674</td>\n",
       "      <td>0</td>\n",
       "      <td>0.980838</td>\n",
       "      <td>0.924911</td>\n",
       "      <td>0.882353</td>\n",
       "      <td>5.0</td>\n",
       "      <td>4.525847</td>\n",
       "      <td>unsupervised_wiener, window = 5.0</td>\n",
       "    </tr>\n",
       "  </tbody>\n",
       "</table>\n",
       "<p>3 rows × 30 columns</p>\n",
       "</div>"
      ],
      "text/plain": [
       "      Area  Energy                                   Energy Estimated  \\\n",
       "0    561.0  2539.0  [2113.50280986 2113.50280986 2113.50280986 211...   \n",
       "100  561.0  2539.0  [2113.50280986 2113.50280986 2113.50280986 211...   \n",
       "200  561.0  2539.0  [2113.50280986 2113.50280986 2113.50280986 211...   \n",
       "\n",
       "                                                  ROCx  \\\n",
       "0    [1.0, 1.0, 1.0, 1.0, 1.0, 1.0, 1.0, 1.0, 1.0, ...   \n",
       "100  [1.0, 1.0, 1.0, 1.0, 1.0, 1.0, 1.0, 1.0, 1.0, ...   \n",
       "200  [1.0, 1.0, 1.0, 1.0, 1.0, 1.0, 1.0, 1.0, 1.0, ...   \n",
       "\n",
       "                                                  ROCy        SNR  bg_eff_0.5  \\\n",
       "0    [0.0, 0.0, 0.0, 0.0, 0.0, 3.8228784e-06, 3.822... -55.907722    0.093709   \n",
       "100  [0.0, 0.0, 0.0, 0.0, 0.0, 0.0, 3.8228784e-06, ... -55.344554    0.091761   \n",
       "200  [0.0, 0.0, 0.0, 0.0, 0.0, 3.8228784e-06, 3.822... -55.814775    0.092097   \n",
       "\n",
       "     bg_eff_1.0  bg_eff_1.5  delta_SNR  ...  delta_sg_eff_1.0_cumulative  \\\n",
       "0      0.167556    0.258840   0.000000  ...                     0.000000   \n",
       "100    0.163179    0.252648   0.563168  ...                     0.016154   \n",
       "200    0.163567    0.250905  -0.470221  ...                     0.003676   \n",
       "\n",
       "     delta_sg_eff_1.5  delta_sg_eff_1.5_cumulative  image_num  sg_eff_0.5  \\\n",
       "0            0.000000                     0.000000          0    0.973708   \n",
       "100          0.011141                     0.011141          0    0.977273   \n",
       "200         -0.008467                     0.002674          0    0.980838   \n",
       "\n",
       "     sg_eff_1.0  sg_eff_1.5  w_size  Intensity mean  \\\n",
       "0      0.921234    0.879679     1.0        4.525847   \n",
       "100    0.937389    0.890820     3.0        4.525847   \n",
       "200    0.924911    0.882353     5.0        4.525847   \n",
       "\n",
       "                                 ftype  \n",
       "0    unsupervised_wiener, window = 1.0  \n",
       "100  unsupervised_wiener, window = 3.0  \n",
       "200  unsupervised_wiener, window = 5.0  \n",
       "\n",
       "[3 rows x 30 columns]"
      ]
     },
     "execution_count": 11,
     "metadata": {},
     "output_type": "execute_result"
    }
   ],
   "source": [
    "## filtrando dados para visualizacao\n",
    "filtro = ['unsupervised_wiener']   ## somente filtros listados\n",
    "window = [1,3,5,7]              ## somente nestas janelas\n",
    "\n",
    "df_filt    = df[df.window.isin(window)]\n",
    "pattern    = '|'.join(filtro)\n",
    "df_filt    = df_filt[df_filt['filter'].str.contains(pattern)]\n",
    "new_column = df_filt['filter']  + ', window = ' + df_filt['window'].astype('str') \n",
    "df_filt.drop(['filter','window'],axis = 1,inplace = True)\n",
    "df_filt['ftype']  = new_column\n",
    "df_filt.head(3)"
   ]
  },
  {
   "cell_type": "markdown",
   "metadata": {
    "colab": {},
    "colab_type": "code",
    "id": "ayUvAcplVSlB"
   },
   "source": [
    "## Rejeição de background 1.5 sigma"
   ]
  },
  {
   "cell_type": "markdown",
   "metadata": {},
   "source": [
    "## Construindo a ROC média e std"
   ]
  },
  {
   "cell_type": "code",
   "execution_count": 12,
   "metadata": {},
   "outputs": [],
   "source": [
    "#df_filt\n",
    "filters = df_filt['ftype'].unique()\n",
    "mean_sg = np.zeros((df_filt['ROCx'].iloc[0].shape[0],\n",
    "                    filters.shape[0]))\n",
    "std_sg = np.zeros_like(mean_sg)\n",
    "mean_bg = np.zeros_like(mean_sg)\n",
    "std_bg = np.zeros_like(mean_sg)\n",
    "for i,f in list(enumerate(filters)):\n",
    "    aux = df_filt[df_filt['ftype'] == f]\n",
    "    roc_x = np.array(aux['ROCx'].tolist())\n",
    "    roc_y = np.array(aux['ROCy'].tolist())\n",
    "    if(len(roc_x.shape) > 2):\n",
    "        roc_x = roc_x[:,:,0]\n",
    "    mean_sg[:,i] = roc_x.mean(axis=0)\n",
    "    std_sg[:,i] = roc_x.std(axis = 0)\n",
    "    mean_bg[:,i] = roc_y.mean(axis=0)\n",
    "    std_bg[:,i] = roc_y.std(axis=0)"
   ]
  },
  {
   "cell_type": "markdown",
   "metadata": {},
   "source": [
    "## Plot das ROC's para sinal fixo -> melhoria no numero de pixels de background (tempo de processamento)"
   ]
  },
  {
   "cell_type": "code",
   "execution_count": 12,
   "metadata": {},
   "outputs": [
    {
     "data": {
      "text/plain": [
       "(100, 6)"
      ]
     },
     "execution_count": 12,
     "metadata": {},
     "output_type": "execute_result"
    }
   ],
   "source": [
    "mean_bg.shape"
   ]
  },
  {
   "cell_type": "code",
   "execution_count": 13,
   "metadata": {},
   "outputs": [
    {
     "data": {
      "text/plain": [
       "Text(0, 0.5, 'Background rejection efficiency')"
      ]
     },
     "execution_count": 13,
     "metadata": {},
     "output_type": "execute_result"
    },
    {
     "data": {
      "image/png": "[encoded data removed]",
      "text/plain": [
       "<Figure size 1080x720 with 1 Axes>"
      ]
     },
     "metadata": {
      "needs_background": "light"
     },
     "output_type": "display_data"
    }
   ],
   "source": [
    "np.random.seed(0)\n",
    "thr_points = [0.5,1,1.5]\n",
    "new_thr_values = []\n",
    "objects = roc_params_build(mean_sg,mean_bg,filters)\n",
    "base_signal_values = objects[filters[0]][0][1](thr_points)\n",
    "base_background_values = []\n",
    "fig,ax = plt.subplots(1,1, figsize=(15,10))\n",
    "flag = 0\n",
    "for i,f in list(enumerate(filters)):\n",
    "    base_background_values.append(objects[f][2][0](base_signal_values))\n",
    "    if (sum(df_filt[df_filt['w_size'] == 1.0]['ftype'] == filters[i]) != 0):\n",
    "        color = 'black'\n",
    "        label = 'no filter'\n",
    "        flag+=1\n",
    "        if flag<=1:\n",
    "            ax.errorbar(mean_sg[:,i],\n",
    "                        mean_bg[:,i],\n",
    "                        2*std_bg[:,i],\n",
    "                        linestyle = '-',\n",
    "                        label = label,\n",
    "                        color = color) \n",
    "            \n",
    "    else:\n",
    "        color = '#%06X' % np.random.randint(0, 0xFFFFFE)\n",
    "        label = f\n",
    "        ax.errorbar(mean_sg[:,i],\n",
    "                    mean_bg[:,i],\n",
    "                    2*std_bg[:,i],\n",
    "                    linestyle = '-',\n",
    "                    label = label,\n",
    "                    color = color) \n",
    "base_background_values = np.array(base_background_values).ravel()   \n",
    "base_signal_values = np.tile(base_signal_values,len(filters))\n",
    "ax.plot(base_signal_values,base_background_values,'sk',alpha = 0.2)\n",
    "plt.legend()\n",
    "plt.grid()\n",
    "plt.xlabel('Signal detection efficiency')\n",
    "plt.ylabel('Background rejection efficiency')"
   ]
  },
  {
   "cell_type": "code",
   "execution_count": 14,
   "metadata": {},
   "outputs": [
    {
     "data": {
      "text/plain": [
       "array([[0.04036356, 0.0924638 , 0.16612324],\n",
       "       [0.03707986, 0.08743585, 0.15842595],\n",
       "       [0.03742652, 0.08805536, 0.15794383],\n",
       "       [0.03576414, 0.0854572 , 0.15560288]])"
      ]
     },
     "execution_count": 14,
     "metadata": {},
     "output_type": "execute_result"
    }
   ],
   "source": [
    "n_bg_pixels = (1-base_background_values.reshape(-1,3))*((512*512)-df['Area'].mean())\n",
    "(base_background_values.reshape(-1,3))"
   ]
  },
  {
   "cell_type": "markdown",
   "metadata": {},
   "source": [
    "### Número de pixels de background"
   ]
  },
  {
   "cell_type": "code",
   "execution_count": 15,
   "metadata": {},
   "outputs": [
    {
     "name": "stdout",
     "output_type": "stream",
     "text": [
      "[[250766 237151 217903]\n",
      " [251624 238465 219915]\n",
      " [251533 238303 220041]\n",
      " [251968 238982 220652]]\n"
     ]
    }
   ],
   "source": [
    "print((n_bg_pixels).astype(np.int))"
   ]
  },
  {
   "cell_type": "markdown",
   "metadata": {},
   "source": [
    "## Plot das ROC's para o background fixo -> mostrar na estimação de energia"
   ]
  },
  {
   "cell_type": "code",
   "execution_count": 16,
   "metadata": {},
   "outputs": [
    {
     "data": {
      "text/plain": [
       "Text(0, 0.5, 'Background rejection efficiency')"
      ]
     },
     "execution_count": 16,
     "metadata": {},
     "output_type": "execute_result"
    },
    {
     "data": {
      "image/png": "[encoded data removed]",
      "text/plain": [
       "<Figure size 1080x720 with 1 Axes>"
      ]
     },
     "metadata": {
      "needs_background": "light"
     },
     "output_type": "display_data"
    }
   ],
   "source": [
    "np.random.seed(5)\n",
    "thr_points = [0.5,1,1.5]\n",
    "new_thr_values = []\n",
    "objects = roc_params_build(mean_sg,mean_bg,filters)\n",
    "base_background_values = objects[filters[0]][1][1](thr_points)\n",
    "base_signal_values = []\n",
    "fig,ax = plt.subplots(1,1, figsize=(15,10))\n",
    "flag = 0\n",
    "for i,f in list(enumerate(filters)):\n",
    "    base_signal_values.append(objects[f][2][1](base_background_values))\n",
    "    if (sum(df_filt[df_filt['w_size'] == 1.0]['ftype'] == filters[i]) != 0):\n",
    "        color = 'black'\n",
    "        label = 'no filter'\n",
    "        flag+=1\n",
    "        if flag<=1:\n",
    "            ax.errorbar(mean_sg[:,i],\n",
    "                        mean_bg[:,i],\n",
    "                        2*std_bg[:,i],\n",
    "                        linestyle = '-',\n",
    "                        label = label,\n",
    "                        color = color) \n",
    "            \n",
    "    else:\n",
    "        color = '#%06X' % np.random.randint(0, 0xFFFFFF)\n",
    "        label = f\n",
    "        ax.errorbar(mean_sg[:,i],\n",
    "                    mean_bg[:,i],\n",
    "                    2*std_bg[:,i],\n",
    "                    linestyle = '-',\n",
    "                    label = label,\n",
    "                    color = color) \n",
    "base_signal_values = np.array(base_signal_values).ravel()   \n",
    "base_background_values = np.tile(base_background_values,len(filters))\n",
    "ax.plot(base_signal_values,base_background_values,'sk',alpha = 0.2)\n",
    "plt.legend()\n",
    "plt.grid()\n",
    "plt.xlabel('Signal detection efficiency')\n",
    "plt.ylabel('Background rejection efficiency')"
   ]
  },
  {
   "cell_type": "code",
   "execution_count": null,
   "metadata": {},
   "outputs": [],
   "source": []
  }
 ],
 "metadata": {
  "colab": {
   "collapsed_sections": [],
   "name": "Copy of filter_analysis.ipynb",
   "provenance": [],
   "toc_visible": true
  },
  "kernelspec": {
   "display_name": "Python 3",
   "language": "python",
   "name": "python3"
  },
  "language_info": {
   "codemirror_mode": {
    "name": "ipython",
    "version": 3
   },
   "file_extension": ".py",
   "mimetype": "text/x-python",
   "name": "python",
   "nbconvert_exporter": "python",
   "pygments_lexer": "ipython3",
   "version": "3.7.3"
  }
 },
 "nbformat": 4,
 "nbformat_minor": 1
}
