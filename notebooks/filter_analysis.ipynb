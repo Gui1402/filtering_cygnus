{
 "cells": [
  {
   "cell_type": "code",
   "execution_count": 1,
   "metadata": {
    "colab": {},
    "colab_type": "code",
    "id": "JhmBej-yGWxg"
   },
   "outputs": [],
   "source": [
    "import sys\n",
    "import numpy as np\n",
    "import pandas as pd\n",
    "import matplotlib.pyplot as plt\n",
    "from scipy.ndimage import convolve\n",
    "from scipy import signal\n",
    "import h5py\n",
    "import glob\n",
    "import itertools\n",
    "from ast import literal_eval\n",
    "from scipy.interpolate import interp1d\n",
    "sys.path.append('../src')\n",
    "from settings import FilterSettings\n",
    "\n",
    "result_settings = FilterSettings()\n",
    "\n",
    "\n",
    "\n",
    "def roc_params_build(rocx, rocy, ftype):\n",
    "    output = {}\n",
    "    bound_sup = result_settings.sup\n",
    "    bound_inf = result_settings.inf\n",
    "    basis = np.linspace(bound_inf, bound_sup, result_settings.roc_grid)\n",
    "    for i in range(0, rocx.shape[1]):\n",
    "        xt = interp1d(rocx[:,i], basis, fill_value = 'extrapolate')\n",
    "        yt = interp1d(rocy[:,i],basis, fill_value = 'extrapolate')\n",
    "        tx = interp1d(basis,rocx[:,i], fill_value = 'extrapolate')\n",
    "        ty = interp1d(basis,rocy[:,i], fill_value = 'extrapolate')\n",
    "        xy = interp1d(rocx[:,i], rocy[:,i], fill_value = 'extrapolate')\n",
    "        yx = interp1d(rocy[:,i], rocx[:,i], fill_value = 'extrapolate')\n",
    "        output[ftype[i]] = [[xt,tx],[yt,ty],[xy,yx]]\n",
    "   \n",
    "    return output\n",
    "\n",
    "def bug_array_fix(df, column):\n",
    "    df_out = df[column]\n",
    "    df_out = df_out.str.replace('\\n',',').str.replace('  ',',').str.replace('[','').str.replace(']','').str.replace(' ',',').str.split(',')\n",
    "    return df_out.apply(lambda x: (np.array(x)[np.array(x)!='']).astype(np.float))\n",
    "\n",
    "def get_roc_params(dfx,dfy, sg_eff = 0.99):\n",
    "    roc_x = np.array(np.matrix(dfx.tolist()))\n",
    "    roc_y = np.array(np.matrix(dfy.tolist()))\n",
    "    auc = abs(np.diff(np.array(roc_x))*np.array(roc_y)[:,:-1]).sum(axis = 1)\n",
    "    bg_fix = []\n",
    "    for i in range(0,roc_x.shape[0]):\n",
    "        x = np.array(roc_x[i,:])\n",
    "        y = np.array(roc_y[i,:])\n",
    "        f = interp1d(x,y,fill_value = 'extrapolate')\n",
    "        bg_fix.append(f(sg_eff))\n",
    "    return auc, bg_fix, roc_y[:,index]\n",
    "\n",
    "\n",
    "def roc_params(dfx, dfy, thresholds):\n",
    "  bound_sup = result_settings.sup\n",
    "  bound_inf = result_settings.inf\n",
    "  basis = np.linspace(bound_inf, bound_sup, result_settings.roc_grid)\n",
    "  roc_x = np.array(np.matrix(dfx.tolist()))\n",
    "  roc_y = np.array(np.matrix(dfy.tolist()))\n",
    "  auc = abs(np.diff(np.array(roc_x))*np.array(roc_y)[:,:-1]).sum(axis = 1)\n",
    "  signal_eff = np.zeros((roc_x.shape[0], len(thresholds)))\n",
    "  bg_eff = np.zeros((roc_x.shape[0], len(thresholds)))\n",
    "  roc_point = np.zeros((roc_x.shape[0], len(thresholds)))\n",
    "  for (n, t) in list(enumerate(thresholds)):\n",
    "    for i in range(0,roc_x.shape[0]):\n",
    "      x = np.array(roc_x[i,:])\n",
    "      y = np.array(roc_y[i,:])\n",
    "      fx = interp1d(basis, x, fill_value = 'extrapolate')\n",
    "      fy = interp1d(basis, y, fill_value = 'extrapolate')\n",
    "      fxy = interp1d(x, y, fill_value = 'extrapolate')\n",
    "      signal_eff[i, n] = fx(t)\n",
    "      bg_eff[i, n] = fy(t)\n",
    "      roc_point[i, n] = fxy(t)\n",
    "   \n",
    "  return auc, signal_eff, bg_eff, roc_point \n",
    "\n",
    "\n",
    "\n",
    "def scatter(df_filt, key_analysis, labels, title):\n",
    "    import matplotlib\n",
    "    #key_analysis = ['Intensity mean','delta_bg_eff_1_cumulative']\n",
    "    fig = plt.figure(figsize=(12,8))\n",
    "    x           = df_filt[key_analysis[0]]\n",
    "    y           = df_filt[key_analysis[1]]\n",
    "    label_name  = df_filt.ftype\n",
    "\n",
    "    ## enconding labels\n",
    "    from sklearn import preprocessing\n",
    "    le          = preprocessing.LabelEncoder()\n",
    "    le.fit(label_name)\n",
    "    label       = le.transform(label_name)\n",
    "\n",
    "    ## selecionando cores para plot de forma randomica\n",
    "    np.random.seed(10)\n",
    "    colors = np.random.rand(len(np.unique(label)),3)\n",
    "\n",
    "    ## scatter plots pelas cores de cada classe (w)\n",
    "    plt.scatter(x, 100*y, c=label, alpha=0.3,cmap=matplotlib.colors.ListedColormap(colors))\n",
    "\n",
    "    ## ajustes do plot e barra de exibicao\n",
    "    plt.xlabel(labels[0],fontsize = 14)\n",
    "    plt.ylabel(labels[1],fontsize = 12)\n",
    "    plt.title(title)\n",
    "    plt.grid()\n",
    "    cb = plt.colorbar()\n",
    "    loc = np.arange(0,max(label),max(label)/float(len(colors)))\n",
    "    cb.set_ticks(loc+0.25)\n",
    "    ## criando labels na colorbar\n",
    "    ticklabels = []\n",
    "    for i in np.unique(label_name):\n",
    "        ticklabels.append(i)\n",
    "\n",
    "    cb.set_ticklabels(ticklabels)"
   ]
  },
  {
   "cell_type": "code",
   "execution_count": 3,
   "metadata": {
    "colab": {
     "base_uri": "https://localhost:8080/",
     "height": 97
    },
    "colab_type": "code",
    "id": "-sLFdYjqOz7-",
    "outputId": "ec65add4-d38b-465a-d21e-426c574154a4"
   },
   "outputs": [
    {
     "data": {
      "text/html": [
       "<div>\n",
       "<style scoped>\n",
       "    .dataframe tbody tr th:only-of-type {\n",
       "        vertical-align: middle;\n",
       "    }\n",
       "\n",
       "    .dataframe tbody tr th {\n",
       "        vertical-align: top;\n",
       "    }\n",
       "\n",
       "    .dataframe thead th {\n",
       "        text-align: right;\n",
       "    }\n",
       "</style>\n",
       "<table border=\"1\" class=\"dataframe\">\n",
       "  <thead>\n",
       "    <tr style=\"text-align: right;\">\n",
       "      <th></th>\n",
       "      <th>SNR</th>\n",
       "      <th>w_size</th>\n",
       "      <th>Energy</th>\n",
       "      <th>Area</th>\n",
       "      <th>filter</th>\n",
       "      <th>window</th>\n",
       "      <th>ROCx</th>\n",
       "      <th>ROCy</th>\n",
       "      <th>Energy Estimated</th>\n",
       "    </tr>\n",
       "  </thead>\n",
       "  <tbody>\n",
       "    <tr>\n",
       "      <td>0</td>\n",
       "      <td>-98.861418</td>\n",
       "      <td>1.0</td>\n",
       "      <td>2539.0</td>\n",
       "      <td>561.0</td>\n",
       "      <td>mean</td>\n",
       "      <td>1.0</td>\n",
       "      <td>[0.99821747 0.81639929 0.13368984]</td>\n",
       "      <td>[0.00286334 0.56160377 0.99955272]</td>\n",
       "      <td>[2153.5234971  2491.24288843  990.5289454 ]</td>\n",
       "    </tr>\n",
       "    <tr>\n",
       "      <td>1</td>\n",
       "      <td>-100.453531</td>\n",
       "      <td>1.0</td>\n",
       "      <td>1683.0</td>\n",
       "      <td>677.0</td>\n",
       "      <td>mean</td>\n",
       "      <td>1.0</td>\n",
       "      <td>[0.9985229  0.74002954 0.05317578]</td>\n",
       "      <td>[0.00282254 0.5605564  0.99959842]</td>\n",
       "      <td>[1537.86007041 2005.01534042  412.45344592]</td>\n",
       "    </tr>\n",
       "    <tr>\n",
       "      <td>2</td>\n",
       "      <td>-88.543275</td>\n",
       "      <td>1.0</td>\n",
       "      <td>4110.0</td>\n",
       "      <td>925.0</td>\n",
       "      <td>mean</td>\n",
       "      <td>1.0</td>\n",
       "      <td>[0.99675676 0.77513514 0.10918919]</td>\n",
       "      <td>[0.00285201 0.56213369 0.99959421]</td>\n",
       "      <td>[3244.60270383 3929.80273018 1765.25570043]</td>\n",
       "    </tr>\n",
       "    <tr>\n",
       "      <td>3</td>\n",
       "      <td>-103.678260</td>\n",
       "      <td>1.0</td>\n",
       "      <td>2123.0</td>\n",
       "      <td>703.0</td>\n",
       "      <td>mean</td>\n",
       "      <td>1.0</td>\n",
       "      <td>[1.         0.77240398 0.05974395]</td>\n",
       "      <td>[0.00286107 0.56213448 0.99962515]</td>\n",
       "      <td>[1736.39509241 2159.14109492  531.18247249]</td>\n",
       "    </tr>\n",
       "    <tr>\n",
       "      <td>4</td>\n",
       "      <td>-81.402118</td>\n",
       "      <td>1.0</td>\n",
       "      <td>4106.0</td>\n",
       "      <td>942.0</td>\n",
       "      <td>mean</td>\n",
       "      <td>1.0</td>\n",
       "      <td>[0.99787686 0.8163482  0.11677282]</td>\n",
       "      <td>[0.00287134 0.56351406 0.99957121]</td>\n",
       "      <td>[3623.71714488 4176.15978631 1789.16035303]</td>\n",
       "    </tr>\n",
       "  </tbody>\n",
       "</table>\n",
       "</div>"
      ],
      "text/plain": [
       "          SNR  w_size  Energy   Area filter  window  \\\n",
       "0  -98.861418     1.0  2539.0  561.0   mean     1.0   \n",
       "1 -100.453531     1.0  1683.0  677.0   mean     1.0   \n",
       "2  -88.543275     1.0  4110.0  925.0   mean     1.0   \n",
       "3 -103.678260     1.0  2123.0  703.0   mean     1.0   \n",
       "4  -81.402118     1.0  4106.0  942.0   mean     1.0   \n",
       "\n",
       "                                 ROCx                                ROCy  \\\n",
       "0  [0.99821747 0.81639929 0.13368984]  [0.00286334 0.56160377 0.99955272]   \n",
       "1  [0.9985229  0.74002954 0.05317578]  [0.00282254 0.5605564  0.99959842]   \n",
       "2  [0.99675676 0.77513514 0.10918919]  [0.00285201 0.56213369 0.99959421]   \n",
       "3  [1.         0.77240398 0.05974395]  [0.00286107 0.56213448 0.99962515]   \n",
       "4  [0.99787686 0.8163482  0.11677282]  [0.00287134 0.56351406 0.99957121]   \n",
       "\n",
       "                              Energy Estimated  \n",
       "0  [2153.5234971  2491.24288843  990.5289454 ]  \n",
       "1  [1537.86007041 2005.01534042  412.45344592]  \n",
       "2  [3244.60270383 3929.80273018 1765.25570043]  \n",
       "3  [1736.39509241 2159.14109492  531.18247249]  \n",
       "4  [3623.71714488 4176.15978631 1789.16035303]  "
      ]
     },
     "execution_count": 3,
     "metadata": {},
     "output_type": "execute_result"
    }
   ],
   "source": [
    "file_dir = result_settings.output_file_path + result_settings.output_file_name+'.csv'\n",
    "df = pd.read_csv(file_dir)\n",
    "df.head()"
   ]
  },
  {
   "cell_type": "code",
   "execution_count": 3,
   "metadata": {
    "colab": {},
    "colab_type": "code",
    "id": "C8k95vo4Oz8E"
   },
   "outputs": [],
   "source": [
    "df['ROCx'] = bug_array_fix(df,'ROCx')\n",
    "df['ROCy'] = bug_array_fix(df,'ROCy')"
   ]
  },
  {
   "cell_type": "code",
   "execution_count": 4,
   "metadata": {
    "colab": {
     "base_uri": "https://localhost:8080/",
     "height": 105
    },
    "colab_type": "code",
    "id": "urLvrVcLKoXg",
    "outputId": "ec801b6f-26ab-4cfe-ff7f-bc976c530c94"
   },
   "outputs": [
    {
     "name": "stderr",
     "output_type": "stream",
     "text": [
      "/home/santo/anaconda3/lib/python3.7/site-packages/scipy/interpolate/interpolate.py:609: RuntimeWarning: divide by zero encountered in true_divide\n",
      "  slope = (y_hi - y_lo) / (x_hi - x_lo)[:, None]\n",
      "/home/santo/anaconda3/lib/python3.7/site-packages/scipy/interpolate/interpolate.py:609: RuntimeWarning: invalid value encountered in true_divide\n",
      "  slope = (y_hi - y_lo) / (x_hi - x_lo)[:, None]\n"
     ]
    }
   ],
   "source": [
    "t_values    = [.5,1.,1.5]\n",
    "new_sg_columns = ['sg_eff_'+str(i) for i in t_values]\n",
    "new_bg_columns = ['bg_eff_'+str(i) for i in t_values] \n",
    "auc,sg,bg,_ = roc_params(df['ROCx'], df['ROCy'],[1,1.5,2])\n",
    "efficiency_df = pd.DataFrame(np.append(sg,bg,axis = 1), columns=new_sg_columns+new_bg_columns)\n",
    "df = pd.concat([df,efficiency_df],axis = 1)"
   ]
  },
  {
   "cell_type": "code",
   "execution_count": 5,
   "metadata": {
    "colab": {
     "base_uri": "https://localhost:8080/",
     "height": 638
    },
    "colab_type": "code",
    "id": "22Btb0xzOz8J",
    "outputId": "2d79ff76-2d41-4819-d6e3-e3619d39fe3e"
   },
   "outputs": [
    {
     "data": {
      "text/html": [
       "<div>\n",
       "<style scoped>\n",
       "    .dataframe tbody tr th:only-of-type {\n",
       "        vertical-align: middle;\n",
       "    }\n",
       "\n",
       "    .dataframe tbody tr th {\n",
       "        vertical-align: top;\n",
       "    }\n",
       "\n",
       "    .dataframe thead th {\n",
       "        text-align: right;\n",
       "    }\n",
       "</style>\n",
       "<table border=\"1\" class=\"dataframe\">\n",
       "  <thead>\n",
       "    <tr style=\"text-align: right;\">\n",
       "      <th></th>\n",
       "      <th>SNR</th>\n",
       "      <th>w_size</th>\n",
       "      <th>Energy</th>\n",
       "      <th>Area</th>\n",
       "      <th>filter</th>\n",
       "      <th>window</th>\n",
       "      <th>ROCx</th>\n",
       "      <th>ROCy</th>\n",
       "      <th>Energy Estimated</th>\n",
       "      <th>sg_eff_0.5</th>\n",
       "      <th>sg_eff_1.0</th>\n",
       "      <th>sg_eff_1.5</th>\n",
       "      <th>bg_eff_0.5</th>\n",
       "      <th>bg_eff_1.0</th>\n",
       "      <th>bg_eff_1.5</th>\n",
       "      <th>image_num</th>\n",
       "    </tr>\n",
       "  </thead>\n",
       "  <tbody>\n",
       "    <tr>\n",
       "      <td>0</td>\n",
       "      <td>-98.861418</td>\n",
       "      <td>1.0</td>\n",
       "      <td>2539.0</td>\n",
       "      <td>561.0</td>\n",
       "      <td>mean</td>\n",
       "      <td>1.0</td>\n",
       "      <td>[0.99821747, 0.99821747, 0.99821747, 0.9982174...</td>\n",
       "      <td>[0.00286334, 0.00342912, 0.00422428, 0.0054323...</td>\n",
       "      <td>[2153.5234971  2153.5234971  2153.5234971  215...</td>\n",
       "      <td>0.572638</td>\n",
       "      <td>0.467357</td>\n",
       "      <td>0.360517</td>\n",
       "      <td>0.874324</td>\n",
       "      <td>0.945386</td>\n",
       "      <td>0.978009</td>\n",
       "      <td>0</td>\n",
       "    </tr>\n",
       "    <tr>\n",
       "      <td>1</td>\n",
       "      <td>-100.453531</td>\n",
       "      <td>1.0</td>\n",
       "      <td>1683.0</td>\n",
       "      <td>677.0</td>\n",
       "      <td>mean</td>\n",
       "      <td>1.0</td>\n",
       "      <td>[0.9985229, 0.9985229, 0.99704579, 0.99704579,...</td>\n",
       "      <td>[0.00282254, 0.00338857, 0.00423763, 0.0054729...</td>\n",
       "      <td>[1537.86007041 1537.86007041 1557.95232184 155...</td>\n",
       "      <td>0.422637</td>\n",
       "      <td>0.280927</td>\n",
       "      <td>0.189069</td>\n",
       "      <td>0.874925</td>\n",
       "      <td>0.945703</td>\n",
       "      <td>0.978747</td>\n",
       "      <td>1</td>\n",
       "    </tr>\n",
       "    <tr>\n",
       "      <td>2</td>\n",
       "      <td>-88.543275</td>\n",
       "      <td>1.0</td>\n",
       "      <td>4110.0</td>\n",
       "      <td>925.0</td>\n",
       "      <td>mean</td>\n",
       "      <td>1.0</td>\n",
       "      <td>[0.99675676, 0.99567568, 0.99459459, 0.9935135...</td>\n",
       "      <td>[0.00285201, 0.0034875, 0.00434501, 0.00559684...</td>\n",
       "      <td>[3244.60270383 3273.59859894 3296.00851556 331...</td>\n",
       "      <td>0.499459</td>\n",
       "      <td>0.374595</td>\n",
       "      <td>0.272162</td>\n",
       "      <td>0.875176</td>\n",
       "      <td>0.946201</td>\n",
       "      <td>0.978730</td>\n",
       "      <td>2</td>\n",
       "    </tr>\n",
       "  </tbody>\n",
       "</table>\n",
       "</div>"
      ],
      "text/plain": [
       "          SNR  w_size  Energy   Area filter  window  \\\n",
       "0  -98.861418     1.0  2539.0  561.0   mean     1.0   \n",
       "1 -100.453531     1.0  1683.0  677.0   mean     1.0   \n",
       "2  -88.543275     1.0  4110.0  925.0   mean     1.0   \n",
       "\n",
       "                                                ROCx  \\\n",
       "0  [0.99821747, 0.99821747, 0.99821747, 0.9982174...   \n",
       "1  [0.9985229, 0.9985229, 0.99704579, 0.99704579,...   \n",
       "2  [0.99675676, 0.99567568, 0.99459459, 0.9935135...   \n",
       "\n",
       "                                                ROCy  \\\n",
       "0  [0.00286334, 0.00342912, 0.00422428, 0.0054323...   \n",
       "1  [0.00282254, 0.00338857, 0.00423763, 0.0054729...   \n",
       "2  [0.00285201, 0.0034875, 0.00434501, 0.00559684...   \n",
       "\n",
       "                                    Energy Estimated  sg_eff_0.5  sg_eff_1.0  \\\n",
       "0  [2153.5234971  2153.5234971  2153.5234971  215...    0.572638    0.467357   \n",
       "1  [1537.86007041 1537.86007041 1557.95232184 155...    0.422637    0.280927   \n",
       "2  [3244.60270383 3273.59859894 3296.00851556 331...    0.499459    0.374595   \n",
       "\n",
       "   sg_eff_1.5  bg_eff_0.5  bg_eff_1.0  bg_eff_1.5  image_num  \n",
       "0    0.360517    0.874324    0.945386    0.978009          0  \n",
       "1    0.189069    0.874925    0.945703    0.978747          1  \n",
       "2    0.272162    0.875176    0.946201    0.978730          2  "
      ]
     },
     "execution_count": 5,
     "metadata": {},
     "output_type": "execute_result"
    }
   ],
   "source": [
    "index = list(range(0,100))\n",
    "n_size = df.shape[0]//100\n",
    "indexes = n_size*index\n",
    "df['image_num'] = indexes\n",
    "df.head(3)"
   ]
  },
  {
   "cell_type": "code",
   "execution_count": 6,
   "metadata": {
    "colab": {
     "base_uri": "https://localhost:8080/",
     "height": 86
    },
    "colab_type": "code",
    "id": "-sPGTDphOz8O",
    "outputId": "acad3fc2-4f7f-4b34-d880-a65a7cbee4e8"
   },
   "outputs": [
    {
     "data": {
      "text/html": [
       "<div>\n",
       "<style scoped>\n",
       "    .dataframe tbody tr th:only-of-type {\n",
       "        vertical-align: middle;\n",
       "    }\n",
       "\n",
       "    .dataframe tbody tr th {\n",
       "        vertical-align: top;\n",
       "    }\n",
       "\n",
       "    .dataframe thead th {\n",
       "        text-align: right;\n",
       "    }\n",
       "</style>\n",
       "<table border=\"1\" class=\"dataframe\">\n",
       "  <thead>\n",
       "    <tr style=\"text-align: right;\">\n",
       "      <th></th>\n",
       "      <th>SNR</th>\n",
       "      <th>w_size</th>\n",
       "      <th>Energy</th>\n",
       "      <th>Area</th>\n",
       "      <th>filter</th>\n",
       "      <th>window</th>\n",
       "      <th>ROCx</th>\n",
       "      <th>ROCy</th>\n",
       "      <th>Energy Estimated</th>\n",
       "      <th>sg_eff_0.5</th>\n",
       "      <th>...</th>\n",
       "      <th>delta_bg_eff_1.0</th>\n",
       "      <th>delta_bg_eff_1.5</th>\n",
       "      <th>delta_SNR</th>\n",
       "      <th>delta_sg_eff_0.5_cumulative</th>\n",
       "      <th>delta_sg_eff_1.0_cumulative</th>\n",
       "      <th>delta_sg_eff_1.5_cumulative</th>\n",
       "      <th>delta_bg_eff_0.5_cumulative</th>\n",
       "      <th>delta_bg_eff_1.0_cumulative</th>\n",
       "      <th>delta_bg_eff_1.5_cumulative</th>\n",
       "      <th>delta_SNR_cumulative</th>\n",
       "    </tr>\n",
       "  </thead>\n",
       "  <tbody>\n",
       "  </tbody>\n",
       "</table>\n",
       "<p>0 rows × 30 columns</p>\n",
       "</div>"
      ],
      "text/plain": [
       "Empty DataFrame\n",
       "Columns: [SNR, w_size, Energy, Area, filter, window, ROCx, ROCy, Energy Estimated, sg_eff_0.5, sg_eff_1.0, sg_eff_1.5, bg_eff_0.5, bg_eff_1.0, bg_eff_1.5, image_num, delta_sg_eff_0.5, delta_sg_eff_1.0, delta_sg_eff_1.5, delta_bg_eff_0.5, delta_bg_eff_1.0, delta_bg_eff_1.5, delta_SNR, delta_sg_eff_0.5_cumulative, delta_sg_eff_1.0_cumulative, delta_sg_eff_1.5_cumulative, delta_bg_eff_0.5_cumulative, delta_bg_eff_1.0_cumulative, delta_bg_eff_1.5_cumulative, delta_SNR_cumulative]\n",
       "Index: []\n",
       "\n",
       "[0 rows x 30 columns]"
      ]
     },
     "execution_count": 6,
     "metadata": {},
     "output_type": "execute_result"
    }
   ],
   "source": [
    "deltas = ['delta_' + st for st in list(efficiency_df.columns) + ['SNR']]\n",
    "cumulatives = [i + '_cumulative' for i in deltas]\n",
    "columns = list(df.columns) + deltas + cumulatives\n",
    "dfObj = pd.DataFrame(columns=columns)\n",
    "dfObj"
   ]
  },
  {
   "cell_type": "code",
   "execution_count": 7,
   "metadata": {
    "colab": {},
    "colab_type": "code",
    "id": "ZsSLIc4cOz8S"
   },
   "outputs": [],
   "source": [
    "values = list(df.groupby(by=['image_num','filter']))\n",
    "data = pd.DataFrame([],columns = values[0][1].columns)"
   ]
  },
  {
   "cell_type": "code",
   "execution_count": 8,
   "metadata": {
    "colab": {
     "base_uri": "https://localhost:8080/",
     "height": 394
    },
    "colab_type": "code",
    "id": "MK5bBljMOz8W",
    "outputId": "8daa34aa-de67-41a5-a87b-ec78efd3776d"
   },
   "outputs": [
    {
     "name": "stderr",
     "output_type": "stream",
     "text": [
      "/home/santo/anaconda3/lib/python3.7/site-packages/pandas/core/frame.py:7123: FutureWarning: Sorting because non-concatenation axis is not aligned. A future version\n",
      "of pandas will change to not sort by default.\n",
      "\n",
      "To accept the future behavior, pass 'sort=False'.\n",
      "\n",
      "To retain the current behavior and silence the warning, pass 'sort=True'.\n",
      "\n",
      "  sort=sort,\n"
     ]
    }
   ],
   "source": [
    "#data = dict((k,[]) for k in deltas+cumulatives)\n",
    "#data = pd.DataFrame([],columns = aux.columns)\n",
    "for i in range(0,len(values)):\n",
    "    aux = values[i][1]\n",
    "    for key1,key2 in zip(deltas, cumulatives):\n",
    "        diff = np.pad(np.diff(aux[key1.split('delta_')[1]]),(1,0),'constant')\n",
    "        diff_cum = diff.cumsum()\n",
    "        #data[key1] = np.append(data[key1],diff)\n",
    "        #data[key2] = np.append(data[key2],diff_cum)\n",
    "        aux[key1] = diff\n",
    "        aux[key2] = diff_cum\n",
    "        #data.columns = aux.columns\n",
    "    data = data.append(aux)\n",
    "    #aux = aux[aux.columns]    \n",
    "    #dfObj = pd.concat([dfObj,aux],axis = 0)    \n",
    "#dfObj.head(3)        "
   ]
  },
  {
   "cell_type": "code",
   "execution_count": 9,
   "metadata": {},
   "outputs": [],
   "source": [
    "df = data\n",
    "df['Intensity mean'] = df['Energy']/df['Area']"
   ]
  },
  {
   "cell_type": "code",
   "execution_count": 10,
   "metadata": {
    "colab": {
     "base_uri": "https://localhost:8080/",
     "height": 638
    },
    "colab_type": "code",
    "id": "iIFTnR_bOz8f",
    "outputId": "7f3cfd32-db4b-4a43-f766-084c58a93751"
   },
   "outputs": [
    {
     "data": {
      "text/html": [
       "<div>\n",
       "<style scoped>\n",
       "    .dataframe tbody tr th:only-of-type {\n",
       "        vertical-align: middle;\n",
       "    }\n",
       "\n",
       "    .dataframe tbody tr th {\n",
       "        vertical-align: top;\n",
       "    }\n",
       "\n",
       "    .dataframe thead th {\n",
       "        text-align: right;\n",
       "    }\n",
       "</style>\n",
       "<table border=\"1\" class=\"dataframe\">\n",
       "  <thead>\n",
       "    <tr style=\"text-align: right;\">\n",
       "      <th></th>\n",
       "      <th>Area</th>\n",
       "      <th>Energy</th>\n",
       "      <th>Energy Estimated</th>\n",
       "      <th>ROCx</th>\n",
       "      <th>ROCy</th>\n",
       "      <th>SNR</th>\n",
       "      <th>bg_eff_0.5</th>\n",
       "      <th>bg_eff_1.0</th>\n",
       "      <th>bg_eff_1.5</th>\n",
       "      <th>delta_SNR</th>\n",
       "      <th>...</th>\n",
       "      <th>delta_sg_eff_1.0_cumulative</th>\n",
       "      <th>delta_sg_eff_1.5</th>\n",
       "      <th>delta_sg_eff_1.5_cumulative</th>\n",
       "      <th>image_num</th>\n",
       "      <th>sg_eff_0.5</th>\n",
       "      <th>sg_eff_1.0</th>\n",
       "      <th>sg_eff_1.5</th>\n",
       "      <th>w_size</th>\n",
       "      <th>Intensity mean</th>\n",
       "      <th>ftype</th>\n",
       "    </tr>\n",
       "  </thead>\n",
       "  <tbody>\n",
       "    <tr>\n",
       "      <td>400</td>\n",
       "      <td>561.0</td>\n",
       "      <td>2539.0</td>\n",
       "      <td>[2113.50280986 2113.50280986 2113.50280986 211...</td>\n",
       "      <td>[1.0, 1.0, 1.0, 1.0, 1.0, 1.0, 1.0, 0.99821747...</td>\n",
       "      <td>[0.00876968, 0.00933547, 0.01004652, 0.0109334...</td>\n",
       "      <td>-87.340719</td>\n",
       "      <td>0.985660</td>\n",
       "      <td>0.996365</td>\n",
       "      <td>0.998887</td>\n",
       "      <td>11.520698</td>\n",
       "      <td>...</td>\n",
       "      <td>-0.113302</td>\n",
       "      <td>-0.113191</td>\n",
       "      <td>-0.113191</td>\n",
       "      <td>0</td>\n",
       "      <td>0.539884</td>\n",
       "      <td>0.354055</td>\n",
       "      <td>0.247326</td>\n",
       "      <td>3.0</td>\n",
       "      <td>4.525847</td>\n",
       "      <td>gauss, window = 3.0</td>\n",
       "    </tr>\n",
       "    <tr>\n",
       "      <td>700</td>\n",
       "      <td>561.0</td>\n",
       "      <td>2539.0</td>\n",
       "      <td>[2113.50280986 2113.50280986 2113.50280986 211...</td>\n",
       "      <td>[1.0, 1.0, 1.0, 1.0, 1.0, 1.0, 1.0, 1.0, 1.0, ...</td>\n",
       "      <td>[0.01329979, 0.01395733, 0.01484424, 0.0157770...</td>\n",
       "      <td>-83.006553</td>\n",
       "      <td>0.998030</td>\n",
       "      <td>0.999734</td>\n",
       "      <td>0.999952</td>\n",
       "      <td>4.334166</td>\n",
       "      <td>...</td>\n",
       "      <td>-0.185495</td>\n",
       "      <td>-0.046791</td>\n",
       "      <td>-0.159982</td>\n",
       "      <td>0</td>\n",
       "      <td>0.463681</td>\n",
       "      <td>0.281863</td>\n",
       "      <td>0.200535</td>\n",
       "      <td>5.0</td>\n",
       "      <td>4.525847</td>\n",
       "      <td>gauss, window = 5.0</td>\n",
       "    </tr>\n",
       "    <tr>\n",
       "      <td>500</td>\n",
       "      <td>561.0</td>\n",
       "      <td>2539.0</td>\n",
       "      <td>[2113.50280986 2113.50280986 2113.50280986 211...</td>\n",
       "      <td>[1.0, 1.0, 1.0, 1.0, 1.0, 1.0, 1.0, 1.0, 1.0, ...</td>\n",
       "      <td>[0.0, 0.0, 0.0, 0.0, 0.0, 0.0, 0.0, 0.0, 3.822...</td>\n",
       "      <td>-35.177509</td>\n",
       "      <td>0.999861</td>\n",
       "      <td>0.999987</td>\n",
       "      <td>0.999999</td>\n",
       "      <td>2.393437</td>\n",
       "      <td>...</td>\n",
       "      <td>-0.204434</td>\n",
       "      <td>-0.173351</td>\n",
       "      <td>-0.173351</td>\n",
       "      <td>0</td>\n",
       "      <td>0.277184</td>\n",
       "      <td>0.157643</td>\n",
       "      <td>0.085116</td>\n",
       "      <td>3.0</td>\n",
       "      <td>4.525847</td>\n",
       "      <td>median, window = 3.0</td>\n",
       "    </tr>\n",
       "  </tbody>\n",
       "</table>\n",
       "<p>3 rows × 30 columns</p>\n",
       "</div>"
      ],
      "text/plain": [
       "      Area  Energy                                   Energy Estimated  \\\n",
       "400  561.0  2539.0  [2113.50280986 2113.50280986 2113.50280986 211...   \n",
       "700  561.0  2539.0  [2113.50280986 2113.50280986 2113.50280986 211...   \n",
       "500  561.0  2539.0  [2113.50280986 2113.50280986 2113.50280986 211...   \n",
       "\n",
       "                                                  ROCx  \\\n",
       "400  [1.0, 1.0, 1.0, 1.0, 1.0, 1.0, 1.0, 0.99821747...   \n",
       "700  [1.0, 1.0, 1.0, 1.0, 1.0, 1.0, 1.0, 1.0, 1.0, ...   \n",
       "500  [1.0, 1.0, 1.0, 1.0, 1.0, 1.0, 1.0, 1.0, 1.0, ...   \n",
       "\n",
       "                                                  ROCy        SNR  bg_eff_0.5  \\\n",
       "400  [0.00876968, 0.00933547, 0.01004652, 0.0109334... -87.340719    0.985660   \n",
       "700  [0.01329979, 0.01395733, 0.01484424, 0.0157770... -83.006553    0.998030   \n",
       "500  [0.0, 0.0, 0.0, 0.0, 0.0, 0.0, 0.0, 0.0, 3.822... -35.177509    0.999861   \n",
       "\n",
       "     bg_eff_1.0  bg_eff_1.5  delta_SNR  ...  delta_sg_eff_1.0_cumulative  \\\n",
       "400    0.996365    0.998887  11.520698  ...                    -0.113302   \n",
       "700    0.999734    0.999952   4.334166  ...                    -0.185495   \n",
       "500    0.999987    0.999999   2.393437  ...                    -0.204434   \n",
       "\n",
       "     delta_sg_eff_1.5  delta_sg_eff_1.5_cumulative  image_num  sg_eff_0.5  \\\n",
       "400         -0.113191                    -0.113191          0    0.539884   \n",
       "700         -0.046791                    -0.159982          0    0.463681   \n",
       "500         -0.173351                    -0.173351          0    0.277184   \n",
       "\n",
       "     sg_eff_1.0  sg_eff_1.5  w_size  Intensity mean                 ftype  \n",
       "400    0.354055    0.247326     3.0        4.525847   gauss, window = 3.0  \n",
       "700    0.281863    0.200535     5.0        4.525847   gauss, window = 5.0  \n",
       "500    0.157643    0.085116     3.0        4.525847  median, window = 3.0  \n",
       "\n",
       "[3 rows x 30 columns]"
      ]
     },
     "execution_count": 10,
     "metadata": {},
     "output_type": "execute_result"
    }
   ],
   "source": [
    "## filtrando dados para visualizacao\n",
    "filtro = ['median','gauss']   ## somente filtros listados\n",
    "window = [3,5]              ## somente nestas janelas\n",
    "\n",
    "df_filt    = df[df.window.isin(window)]\n",
    "pattern    = '|'.join(filtro)\n",
    "df_filt    = df_filt[df_filt['filter'].str.contains(pattern)]\n",
    "new_column = df_filt['filter']  + ', window = ' + df_filt['window'].astype('str') \n",
    "df_filt.drop(['filter','window'],axis = 1,inplace = True)\n",
    "df_filt['ftype']  = new_column\n",
    "df_filt.head(3)"
   ]
  },
  {
   "cell_type": "markdown",
   "metadata": {
    "colab": {},
    "colab_type": "code",
    "id": "ayUvAcplVSlB"
   },
   "source": [
    "## Rejeição de background 1.5 sigma"
   ]
  },
  {
   "cell_type": "markdown",
   "metadata": {},
   "source": [
    "## Construindo a ROC média e std"
   ]
  },
  {
   "cell_type": "code",
   "execution_count": 11,
   "metadata": {},
   "outputs": [],
   "source": [
    "#df_filt\n",
    "filters = df_filt['ftype'].unique()\n",
    "mean_sg = np.zeros((df_filt['ROCx'].iloc[0].shape[0],\n",
    "                    filters.shape[0]))\n",
    "std_sg = np.zeros_like(mean_sg)\n",
    "mean_bg = np.zeros_like(mean_sg)\n",
    "std_bg = np.zeros_like(mean_sg)\n",
    "for i,f in list(enumerate(filters)):\n",
    "    aux = df_filt[df_filt['ftype'] == f]\n",
    "    roc_x = np.array(aux['ROCx'].tolist())\n",
    "    roc_y = np.array(aux['ROCy'].tolist())\n",
    "    if(len(roc_x.shape) > 2):\n",
    "        roc_x = roc_x[:,:,0]\n",
    "    mean_sg[:,i] = roc_x.mean(axis=0)\n",
    "    std_sg[:,i] = roc_x.std(axis = 0)\n",
    "    mean_bg[:,i] = roc_y.mean(axis=0)\n",
    "    std_bg[:,i] = roc_y.std(axis=0)"
   ]
  },
  {
   "cell_type": "markdown",
   "metadata": {},
   "source": [
    "## Plot das ROC's para sinal fixo -> melhoria no numero de pixels de background (tempo de processamento)"
   ]
  },
  {
   "cell_type": "code",
   "execution_count": 12,
   "metadata": {},
   "outputs": [
    {
     "data": {
      "text/plain": [
       "(30, 4)"
      ]
     },
     "execution_count": 12,
     "metadata": {},
     "output_type": "execute_result"
    }
   ],
   "source": [
    "mean_bg.shape"
   ]
  },
  {
   "cell_type": "code",
   "execution_count": 13,
   "metadata": {},
   "outputs": [
    {
     "data": {
      "text/plain": [
       "Text(0, 0.5, 'Background rejection efficiency')"
      ]
     },
     "execution_count": 13,
     "metadata": {},
     "output_type": "execute_result"
    },
    {
     "data": {
      "image/png": "[encoded data removed]",
      "text/plain": [
       "<Figure size 1080x720 with 1 Axes>"
      ]
     },
     "metadata": {
      "needs_background": "light"
     },
     "output_type": "display_data"
    }
   ],
   "source": [
    "np.random.seed(0)\n",
    "thr_points = [0.5,1,1.5]\n",
    "new_thr_values = []\n",
    "objects = roc_params_build(mean_sg,mean_bg,filters)\n",
    "base_signal_values = objects[filters[0]][0][1](thr_points)\n",
    "base_background_values = []\n",
    "fig,ax = plt.subplots(1,1, figsize=(15,10))\n",
    "flag = 0\n",
    "for i,f in list(enumerate(filters)):\n",
    "    base_background_values.append(objects[f][2][0](base_signal_values))\n",
    "    if (sum(df_filt[df_filt['w_size'] == 1.0]['ftype'] == filters[i]) != 0):\n",
    "        color = 'black'\n",
    "        label = 'no filter'\n",
    "        flag+=1\n",
    "        if flag<=1:\n",
    "            ax.errorbar(mean_sg[:,i],\n",
    "                        mean_bg[:,i],\n",
    "                        2*std_bg[:,i],\n",
    "                        linestyle = '-',\n",
    "                        label = label,\n",
    "                        color = color) \n",
    "            \n",
    "    else:\n",
    "        color = '#%06X' % np.random.randint(0, 0xFFFFFE)\n",
    "        label = f\n",
    "        ax.errorbar(mean_sg[:,i],\n",
    "                    mean_bg[:,i],\n",
    "                    2*std_bg[:,i],\n",
    "                    linestyle = '-',\n",
    "                    label = label,\n",
    "                    color = color) \n",
    "base_background_values = np.array(base_background_values).ravel()   \n",
    "base_signal_values = np.tile(base_signal_values,len(filters))\n",
    "ax.plot(base_signal_values,base_background_values,'sk',alpha = 0.2)\n",
    "plt.legend()\n",
    "plt.grid()\n",
    "plt.xlabel('Signal detection efficiency')\n",
    "plt.ylabel('Background rejection efficiency')"
   ]
  },
  {
   "cell_type": "code",
   "execution_count": 14,
   "metadata": {},
   "outputs": [
    {
     "data": {
      "text/plain": [
       "array([[0.92497061, 0.98553691, 0.99629162],\n",
       "       [0.9515613 , 0.99323832, 0.99864893],\n",
       "       [0.94194318, 0.99206926, 0.99902469],\n",
       "       [0.88422442, 0.9859298 , 0.99452301]])"
      ]
     },
     "execution_count": 14,
     "metadata": {},
     "output_type": "execute_result"
    }
   ],
   "source": [
    "n_bg_pixels = (1-base_background_values.reshape(-1,3))*((512*512)-df['Area'].mean())\n",
    "(base_background_values.reshape(-1,3))"
   ]
  },
  {
   "cell_type": "markdown",
   "metadata": {},
   "source": [
    "### Número de pixels de background"
   ]
  },
  {
   "cell_type": "code",
   "execution_count": 15,
   "metadata": {},
   "outputs": [
    {
     "name": "stdout",
     "output_type": "stream",
     "text": [
      "[[19606  3779   969]\n",
      " [12657  1766   353]\n",
      " [15171  2072   254]\n",
      " [30253  3676  1431]]\n"
     ]
    }
   ],
   "source": [
    "print((n_bg_pixels).astype(np.int))"
   ]
  },
  {
   "cell_type": "markdown",
   "metadata": {},
   "source": [
    "## Plot das ROC's para o background fixo -> mostrar na estimação de energia"
   ]
  },
  {
   "cell_type": "code",
   "execution_count": 16,
   "metadata": {},
   "outputs": [
    {
     "data": {
      "text/plain": [
       "Text(0, 0.5, 'Background rejection efficiency')"
      ]
     },
     "execution_count": 16,
     "metadata": {},
     "output_type": "execute_result"
    },
    {
     "data": {
      "image/png": "[encoded data removed]",
      "text/plain": [
       "<Figure size 1080x720 with 1 Axes>"
      ]
     },
     "metadata": {
      "needs_background": "light"
     },
     "output_type": "display_data"
    }
   ],
   "source": [
    "np.random.seed(5)\n",
    "thr_points = [0.5,1,1.5]\n",
    "new_thr_values = []\n",
    "objects = roc_params_build(mean_sg,mean_bg,filters)\n",
    "base_background_values = objects[filters[0]][1][1](thr_points)\n",
    "base_signal_values = []\n",
    "fig,ax = plt.subplots(1,1, figsize=(15,10))\n",
    "flag = 0\n",
    "for i,f in list(enumerate(filters)):\n",
    "    base_signal_values.append(objects[f][2][1](base_background_values))\n",
    "    if (sum(df_filt[df_filt['w_size'] == 1.0]['ftype'] == filters[i]) != 0):\n",
    "        color = 'black'\n",
    "        label = 'no filter'\n",
    "        flag+=1\n",
    "        if flag<=1:\n",
    "            ax.errorbar(mean_sg[:,i],\n",
    "                        mean_bg[:,i],\n",
    "                        2*std_bg[:,i],\n",
    "                        linestyle = '-',\n",
    "                        label = label,\n",
    "                        color = color) \n",
    "            \n",
    "    else:\n",
    "        color = '#%06X' % np.random.randint(0, 0xFFFFFF)\n",
    "        label = f\n",
    "        ax.errorbar(mean_sg[:,i],\n",
    "                    mean_bg[:,i],\n",
    "                    2*std_bg[:,i],\n",
    "                    linestyle = '-',\n",
    "                    label = label,\n",
    "                    color = color) \n",
    "base_signal_values = np.array(base_signal_values).ravel()   \n",
    "base_background_values = np.tile(base_background_values,len(filters))\n",
    "ax.plot(base_signal_values,base_background_values,'sk',alpha = 0.2)\n",
    "plt.legend()\n",
    "plt.grid()\n",
    "plt.xlabel('Signal detection efficiency')\n",
    "plt.ylabel('Background rejection efficiency')"
   ]
  }
 ],
 "metadata": {
  "colab": {
   "collapsed_sections": [],
   "name": "Copy of filter_analysis.ipynb",
   "provenance": [],
   "toc_visible": true
  },
  "kernelspec": {
   "display_name": "Python 3",
   "language": "python",
   "name": "python3"
  },
  "language_info": {
   "codemirror_mode": {
    "name": "ipython",
    "version": 3
   },
   "file_extension": ".py",
   "mimetype": "text/x-python",
   "name": "python",
   "nbconvert_exporter": "python",
   "pygments_lexer": "ipython3",
   "version": "3.7.4"
  }
 },
 "nbformat": 4,
 "nbformat_minor": 1
}
