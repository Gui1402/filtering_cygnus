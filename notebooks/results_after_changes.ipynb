{
 "cells": [
  {
   "cell_type": "code",
   "execution_count": null,
   "metadata": {},
   "outputs": [],
   "source": [
    "import pandas as pd\n",
    "import glob\n",
    "import seaborn as sns\n",
    "import json\n",
    "import numpy as np\n",
    "import matplotlib.pyplot as plt\n",
    "import matplotlib.colors as mcolors\n",
    "import itertools\n",
    "import warnings\n",
    "warnings.filterwarnings('ignore')\n",
    "from matplotlib.colors import LogNorm\n",
    "\n",
    "\n",
    "files_path = '../data/for_analysis/v2/'\n",
    "\n",
    "\n",
    "def load_data(path):\n",
    "    with open(path, 'r') as JSON:\n",
    "        json_dict = json.load(JSON)\n",
    "    return json.loads(json_dict)   \n",
    "    \n",
    "\n",
    "def name_change(name):\n",
    "    er = name.split('ER')\n",
    "    he = name.split('He')\n",
    "    if len(er) > 1:\n",
    "        return ['ER', er[-1].split('_')[1]]\n",
    "    elif len(he) > 1:\n",
    "        return ['He', he[-1].split('_')[1]]\n",
    "    else:\n",
    "        return None\n",
    "    \n",
    "    \n",
    "def get_f1_data_from_raw(input_dict):\n",
    "    x = np.array(input_dict['ROC']['full'])[:, 0, :, :]\n",
    "    y = np.array(input_dict['ROC']['full'])[:, 1, :, :]\n",
    "    f1 = (2*x*y)/(x+y)\n",
    "    f1 = np.nan_to_num(f1)\n",
    "    result = f1.max(axis=1).ravel()\n",
    "    n_filters = x.shape[-1]\n",
    "    table = pd.DataFrame({'path':list(itertools.chain.from_iterable(itertools.repeat(x, n_filters) for x in input_dict['Image_path'])),\n",
    "                          'image':list(itertools.chain.from_iterable(itertools.repeat(x, n_filters) for x in input_dict['Image_index'])),\n",
    "                      'filter':input_dict['Filter_name'],\n",
    "                      'parameter': input_dict['Filter_parameter'],\n",
    "                      'f1': result})\n",
    "    table = pd.DataFrame.from_records(table.path.apply(name_change), columns=['particle', 'energy']).join(table.drop('path', axis=1))\n",
    "    table['parameter'] = table.parameter.apply(lambda x: x[0])\n",
    "    table.energy = table.energy.astype(np.int)\n",
    "    table.parameter[table.parameter == 'n'] = 0\n",
    "    table.parameter = table.parameter.astype(np.int)\n",
    "    return table\n",
    "\n",
    "## TODO : merge those functions\n",
    "def get_data_from_raw(input_dict):\n",
    "    x = np.array(input_dict['ROC']['full'])[:, 0, :, :]\n",
    "    y = np.array(input_dict['ROC']['full'])[:, 1, :, :]\n",
    "    energy = np.array(input_dict['Energy']['image_after_threshold'])\n",
    "    n_filters = x.shape[2]\n",
    "    table = pd.DataFrame({'path':list(itertools.chain.from_iterable(itertools.repeat(x, n_filters) for x in input_dict['Image_path'])),\n",
    "                          'image':list(itertools.chain.from_iterable(itertools.repeat(x, n_filters) for x in input_dict['Image_index'])),\n",
    "                          'filter':input_dict['Filter_name'],\n",
    "                          'parameter': input_dict['Filter_parameter']})\n",
    "    table['recall'] = np.hstack(x).T.tolist()\n",
    "    table['precision'] = np.hstack(y).T.tolist()\n",
    "    table['energy_threshold'] = np.hstack(energy).T.tolist()\n",
    "    table = pd.DataFrame.from_records(table.path.apply(name_change), columns=['particle', 'energy']).join(table.drop('path', axis=1))\n",
    "    table['parameter'] = table.parameter.apply(lambda x: x[0])\n",
    "    table.energy = table.energy.astype(np.int)\n",
    "    table.parameter[table.parameter == 'n'] = 0\n",
    "    table.parameter = table.parameter.astype(np.int)\n",
    "    return table\n",
    "\n",
    "def fill_nan_nn(arr):\n",
    "    mask = np.isnan(arr)\n",
    "    idx = np.where(~mask,np.arange(mask.shape[1]),0)\n",
    "    np.maximum.accumulate(idx,axis=1, out=idx)\n",
    "    out = arr[np.arange(idx.shape[0])[:,None], idx]\n",
    "    return out"
   ]
  },
  {
   "cell_type": "markdown",
   "metadata": {},
   "source": [
    "## Carregando resultados"
   ]
  },
  {
   "cell_type": "code",
   "execution_count": null,
   "metadata": {},
   "outputs": [],
   "source": [
    "files = glob.glob(files_path + '*.json')"
   ]
  },
  {
   "cell_type": "code",
   "execution_count": null,
   "metadata": {},
   "outputs": [],
   "source": [
    "result_table = []\n",
    "for file in files:\n",
    "    result_table.append(get_f1_data_from_raw(load_data(file)))\n",
    "result_table = pd.concat(result_table)"
   ]
  },
  {
   "cell_type": "code",
   "execution_count": null,
   "metadata": {},
   "outputs": [],
   "source": [
    "result_table.head(-2)"
   ]
  },
  {
   "cell_type": "markdown",
   "metadata": {},
   "source": [
    "## Análise dos resultados\n",
    "  * Desempenho dos filtros para cada tipo de partícula e valor de energia\n",
    "  * Reconstrução da curva energia x integral dos clusters"
   ]
  },
  {
   "cell_type": "markdown",
   "metadata": {},
   "source": [
    "### Análise por valor de Energia"
   ]
  },
  {
   "cell_type": "code",
   "execution_count": null,
   "metadata": {},
   "outputs": [],
   "source": [
    "#plt.figure(figsize=(30,15))\n",
    "g = sns.catplot(x=\"energy\", y=\"f1\", hue=\"filter\", col=\"particle\", data=result_table.groupby(['particle','filter', 'energy', 'image']).agg({'f1':'max'}).reset_index(), kind=\"box\", height=12, aspect=1)\n",
    "axes = g.axes.ravel()\n",
    "axes[0].grid()\n",
    "axes[1].grid()\n",
    "axes[0].set_xlabel('Energy', fontsize=18)\n",
    "axes[0].set_ylabel('f1-score', fontsize=18)\n",
    "axes[1].set_xlabel('Energy', fontsize=18)\n",
    "axes[0].tick_params(axis='both', which='major', labelsize=18)\n",
    "axes[1].tick_params(axis='both', which='major', labelsize=18)\n",
    "axes[0].set_ylim([0, 1])\n",
    "axes[1].set_ylim([0, 1])\n",
    "axes[0].set_title('Electron recoil', fontsize=18)\n",
    "axes[1].set_title('Nuclear recoil', fontsize=18)"
   ]
  },
  {
   "cell_type": "code",
   "execution_count": null,
   "metadata": {},
   "outputs": [],
   "source": [
    "only_median = result_table.groupby(['particle','filter', 'energy', 'image']).agg({'f1':'max'}).groupby(['particle', 'filter', 'energy']).agg('median').reset_index()\n",
    "\n",
    "fig, ax = plt.subplots(1, 2, figsize=(20, 10))\n",
    "sns.lineplot(x='energy', \n",
    "             y='f1',\n",
    "             hue='filter',\n",
    "             lw=3,\n",
    "             #col = 'particle',\n",
    "             #palette=['b','r'],\n",
    "             data=only_median[only_median['particle']=='ER'],\n",
    "             alpha = 0.2,\n",
    "             ax = ax[0])\n",
    "sns.lineplot(x='energy', \n",
    "             y='f1',\n",
    "             hue='filter',\n",
    "             lw=3,\n",
    "             #col = 'particle',\n",
    "             #palette=['b','r'],\n",
    "             data=only_median[only_median['particle']=='He'],\n",
    "             alpha = 0.2,\n",
    "             ax = ax[1])\n",
    "\n",
    "ax[0].grid()\n",
    "ax[1].grid()\n",
    "ax[0].set_xlabel('Energy', fontsize=18)\n",
    "ax[0].set_ylabel('f1-score (50%)', fontsize=18)\n",
    "ax[1].set_ylabel('f1-score (50%)', fontsize=18)\n",
    "ax[1].set_xlabel('Energy', fontsize=18)\n",
    "ax[0].tick_params(axis='both', which='major', labelsize=18)\n",
    "ax[1].tick_params(axis='both', which='major', labelsize=18)\n",
    "ax[0].set_ylim([0, 1])\n",
    "ax[1].set_ylim([0, 1])\n",
    "ax[0].set_title('Electron recoil', fontsize=18)\n",
    "ax[1].set_title('Nuclear recoil', fontsize=18)\n",
    "#ax[0].get_legend().remove()\n",
    "#ax[1].get_legend().remove()"
   ]
  },
  {
   "cell_type": "markdown",
   "metadata": {},
   "source": [
    "### Estimação de energia\n",
    "\n",
    "#### Energia perdida após inserção e remoção do pedestal"
   ]
  },
  {
   "cell_type": "code",
   "execution_count": null,
   "metadata": {},
   "outputs": [],
   "source": [
    "teste = []\n",
    "for file in files:\n",
    "    d = load_data(file)\n",
    "    data_frame_teste = pd.DataFrame([d['Image_path'], d['Image_index'], d['Energy']['image_truth'], d['Energy']['image_real']]).T\n",
    "    teste.append(data_frame_teste)\n",
    "energy_df = pd.concat(teste)\n",
    "energy_df.columns = ['image_path', 'image_index', 'energy_truth', 'energy_real']"
   ]
  },
  {
   "cell_type": "code",
   "execution_count": null,
   "metadata": {},
   "outputs": [],
   "source": [
    "energy_df = pd.DataFrame.from_records(energy_df.image_path.apply(name_change).values, columns = ['particle', 'energy']).join(energy_df.reset_index().drop(['index', 'image_path', 'image_index'], axis=1))"
   ]
  },
  {
   "cell_type": "code",
   "execution_count": null,
   "metadata": {},
   "outputs": [],
   "source": [
    "energy_df.head()"
   ]
  },
  {
   "cell_type": "code",
   "execution_count": null,
   "metadata": {},
   "outputs": [],
   "source": [
    "energy_df[[\"energy\", \"energy_truth\", \"energy_real\"]] = energy_df[[\"energy\", \"energy_truth\", \"energy_real\"]].apply(pd.to_numeric)"
   ]
  },
  {
   "cell_type": "code",
   "execution_count": null,
   "metadata": {},
   "outputs": [],
   "source": [
    "fig, axes = plt.subplots(1, 1, figsize=(20, 10))\n",
    "palette = sns.color_palette(\"mako_r\", 2)\n",
    "sns.lineplot(x=\"energy\", y=\"value\", hue=\"particle\", data=pd.melt(energy_df, id_vars=['particle', 'energy']),  err_style=\"bars\", style=\"variable\",  palette=palette, ax=axes)\n",
    "axes.grid()\n",
    "axes.set_ylabel('Cluster integral', fontsize=18)\n",
    "axes.set_xlabel('Energy', fontsize=18)\n",
    "axes.set_xlim([0, 60.1])\n",
    "axes.tick_params(axis='both', which='major', labelsize=18)\n",
    "axes.legend(fontsize=18)"
   ]
  },
  {
   "cell_type": "markdown",
   "metadata": {},
   "source": [
    "#### Energia após filtragem\n",
    "    * No caso anterior temos uma rejeição de background de 100% e detecção de sinal de 100%. Assumi-se uma clusterização perfeita e o erro exibido é o de estimação de pedestal;\n",
    "    * Com a filtragem (ou ausência desta) pixels podem ser classificados de maneira incorreta ( pixels de sinal podem ser considerados background e vice-versa)\n",
    "    \n",
    "    * Escolhendo os melhores filtros para cada particula e energia"
   ]
  },
  {
   "cell_type": "code",
   "execution_count": null,
   "metadata": {},
   "outputs": [],
   "source": [
    "agg_results = result_table.groupby(['particle', 'energy', 'filter', 'parameter']).agg('median')"
   ]
  },
  {
   "cell_type": "code",
   "execution_count": null,
   "metadata": {},
   "outputs": [],
   "source": [
    "agg_results = agg_results.reset_index()"
   ]
  },
  {
   "cell_type": "code",
   "execution_count": null,
   "metadata": {},
   "outputs": [],
   "source": [
    "agg_results"
   ]
  },
  {
   "cell_type": "code",
   "execution_count": null,
   "metadata": {},
   "outputs": [],
   "source": [
    "agg_results = agg_results.sort_values('f1').drop_duplicates(subset=['particle', 'filter', 'energy'], keep='last')"
   ]
  },
  {
   "cell_type": "code",
   "execution_count": null,
   "metadata": {},
   "outputs": [],
   "source": [
    "agg_results.drop('f1',axis=1, inplace=True)"
   ]
  },
  {
   "cell_type": "code",
   "execution_count": null,
   "metadata": {},
   "outputs": [],
   "source": [
    "agg_results"
   ]
  },
  {
   "cell_type": "code",
   "execution_count": null,
   "metadata": {},
   "outputs": [],
   "source": [
    "full_result_table = []\n",
    "for file in files:\n",
    "    full_result_table.append(get_data_from_raw(load_data(file)))\n",
    "full_result_table = pd.concat(full_result_table)"
   ]
  },
  {
   "cell_type": "code",
   "execution_count": null,
   "metadata": {},
   "outputs": [],
   "source": [
    "full_result_table"
   ]
  },
  {
   "cell_type": "code",
   "execution_count": null,
   "metadata": {},
   "outputs": [],
   "source": [
    "filtered_full_result_table = agg_results.merge(full_result_table, how='inner', left_on=['particle', 'energy', 'filter','parameter'], right_on=['particle', 'energy', 'filter','parameter'])"
   ]
  },
  {
   "cell_type": "code",
   "execution_count": null,
   "metadata": {},
   "outputs": [],
   "source": [
    "precision_matrix = np.array(filtered_full_result_table['precision'].tolist())\n",
    "recall_matrix = np.array(filtered_full_result_table['recall'].tolist())\n",
    "energy_matrix = np.array(filtered_full_result_table['energy_threshold'].tolist())\n",
    "precision_matrix = fill_nan_nn(precision_matrix)\n",
    "recall_matrix = fill_nan_nn(recall_matrix)\n",
    "energy_matrix = fill_nan_nn(energy_matrix)"
   ]
  },
  {
   "cell_type": "code",
   "execution_count": null,
   "metadata": {},
   "outputs": [],
   "source": [
    "xx, yy = np.where(precision_matrix>0.95)\n",
    "position_array = np.array([xx,yy]).T\n",
    "list_of_valid_index = np.split(position_array[:, 1], np.cumsum(np.unique(position_array[:, 0], return_counts=True)[1])[:-1])"
   ]
  },
  {
   "cell_type": "code",
   "execution_count": null,
   "metadata": {},
   "outputs": [],
   "source": [
    "best_recall = []\n",
    "for index, count in list(enumerate(np.unique(position_array[:, 0]))):\n",
    "    best_recall.append([count, max(recall_matrix[count,list_of_valid_index[index]]), max(energy_matrix[count,list_of_valid_index[index]])])"
   ]
  },
  {
   "cell_type": "code",
   "execution_count": null,
   "metadata": {},
   "outputs": [],
   "source": [
    "p_results = pd.DataFrame(np.array(best_recall), columns=['index', 'recall_at_p', 'energy_at_p'])\n",
    "p_results.index = p_results['index'].astype(int)\n",
    "p_results.drop(['index'], axis=1, inplace=True)"
   ]
  },
  {
   "cell_type": "code",
   "execution_count": null,
   "metadata": {},
   "outputs": [],
   "source": [
    "filtered_full_result_table = filtered_full_result_table.join(p_results)"
   ]
  },
  {
   "cell_type": "code",
   "execution_count": null,
   "metadata": {},
   "outputs": [],
   "source": [
    "filtered_full_result_table.head()"
   ]
  },
  {
   "cell_type": "code",
   "execution_count": null,
   "metadata": {},
   "outputs": [],
   "source": [
    "energy_filters_result = filtered_full_result_table[['particle', 'energy', 'filter', 'energy_at_p']]"
   ]
  },
  {
   "cell_type": "code",
   "execution_count": null,
   "metadata": {},
   "outputs": [],
   "source": [
    "energy_concat = pd.melt(energy_df, id_vars=['particle', 'energy'])\n",
    "energy_concat.columns = ['particle', 'energy', 'filter', 'energy_at_p']\n",
    "energy_concat"
   ]
  },
  {
   "cell_type": "code",
   "execution_count": null,
   "metadata": {},
   "outputs": [],
   "source": [
    "filt = ['gaussian', 'energy_real', 'cygno']\n",
    "data = energy_filters_result.append(energy_concat)\n",
    "#data = energy_filters_result[energy_filters_result['filter'].isin(filt)]\n",
    "data = data[data['filter'].isin(filt)]"
   ]
  },
  {
   "cell_type": "code",
   "execution_count": null,
   "metadata": {},
   "outputs": [],
   "source": [
    "fig, axes = plt.subplots(1, 1, figsize=(20, 10))\n",
    "palette = sns.color_palette(\"hls\", len(filt))\n",
    "sns.lineplot(x=\"energy\", y=\"energy_at_p\", hue=\"filter\", data=data,  err_style=\"bars\", style=\"particle\",  palette=palette, ax=axes)\n",
    "axes.grid()\n",
    "axes.set_ylabel('Cluster integral', fontsize=18)\n",
    "axes.set_xlabel('Energy', fontsize=18)\n",
    "axes.set_xlim([0, 60.1])\n",
    "axes.tick_params(axis='both', which='major', labelsize=18)\n",
    "axes.legend(fontsize=18)"
   ]
  },
  {
   "cell_type": "code",
   "execution_count": null,
   "metadata": {},
   "outputs": [],
   "source": [
    "#plt.figure(figsize=(30,15))\n",
    "g = sns.catplot(x=\"energy\", y=\"energy_at_p\", hue=\"filter\", col=\"particle\", data=data, kind=\"box\", height=12, aspect=1)\n",
    "axes = g.axes.ravel()\n",
    "axes[0].grid()\n",
    "axes[1].grid()\n",
    "axes[0].set_xlabel('Energy', fontsize=18)\n",
    "axes[0].set_ylabel('energy', fontsize=18)\n",
    "axes[1].set_xlabel('Energy', fontsize=18)\n",
    "axes[0].tick_params(axis='both', which='major', labelsize=18)\n",
    "axes[1].tick_params(axis='both', which='major', labelsize=18)\n",
    "axes[0].set_title('Nuclear recoil', fontsize=18)\n",
    "axes[1].set_title('Electron recoil', fontsize=18)"
   ]
  },
  {
   "cell_type": "code",
   "execution_count": null,
   "metadata": {},
   "outputs": [],
   "source": []
  }
 ],
 "metadata": {
  "kernelspec": {
   "display_name": "Python 3",
   "language": "python",
   "name": "python3"
  },
  "language_info": {
   "codemirror_mode": {
    "name": "ipython",
    "version": 3
   },
   "file_extension": ".py",
   "mimetype": "text/x-python",
   "name": "python",
   "nbconvert_exporter": "python",
   "pygments_lexer": "ipython3",
   "version": "3.7.6"
  }
 },
 "nbformat": 4,
 "nbformat_minor": 4
}
