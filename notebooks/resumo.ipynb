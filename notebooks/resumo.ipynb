{
 "cells": [
  {
   "cell_type": "markdown",
   "metadata": {},
   "source": [
    "# Estudo da filtragem como técnica de pré processamento utilizando imagens de simulação do experimento CYGNO"
   ]
  },
  {
   "cell_type": "markdown",
   "metadata": {},
   "source": [
    "<ol>\n",
    "  <p>Desenvolvido por:</p>\n",
    "    \n",
    "    \n",
    "  <li>Guilherme Sebastião Pinheiro Lopes, \n",
    "      \n",
    "      e-mail: guilherme.lopes@engenharia.ufjf.br \n",
    "      \n",
    "  </li>\n",
    "  <li>Igor Abritta Costa,                 \n",
    "    \n",
    "      e-mail: igorabritta@gmail.com\n",
    "  </li>\n",
    "  <li>Rafael Antunes Nóbrega,             \n",
    "    \n",
    "      e-mail: ranobr@gmail.com\n",
    "      \n",
    "  </li>\n",
    "</ol>"
   ]
  },
  {
   "cell_type": "markdown",
   "metadata": {},
   "source": [
    "## Motivação deste trabalho\n",
    "\n",
    "Na figura abaixo exibimos uma imagem que foi obtida através do detector ORANGE do experimento CYGNO. Nesta imagem é possível observar algumas caracteristicas importantes:\n",
    "\n",
    " <img src=\"images/motivation.png\" />\n",
    " \n",
    " \n",
    "     -Grande diferença de contraste nos elementos de interesse (Traços);\n",
    "     -Presença de um ruído de fundo que pode mitigar informarções presente nos tracks.\n",
    "     \n",
    "\n",
    "A partir destes problemas nos questionamos se é possível desenvolver um conjunto de algoritmos capazes de nos retornar, de forma confiável, a informação correta sobre os traços vistos na imagem com o mínimo de informação de ruído possível.\n",
    "\n",
    "Com o que temos hoje, essa pergunta só pode ser respondida de forma qualitativa, ou seja, aplicando diversas técnicas de processamento digital de imagens e ir avaliando qual delas nos traz um resultado visual melhor, porém será que conseguimos definir um número que consiga nos informar qual é a melhor técnica dentre as aplicadas? A resposta para hoje é não, visto que não sabemos quais pixels fazem parte do traço e quais não fazem. Então a melhor estratégia seria trabalhar em um ambiente parecido com o que estamos trabalhando de forma a desenvolver os algoritmos nesse ambiente e depois buscar técnicas para avaliação no ambiente real. A melhor estratégia para isso é trabalhar com imagens de simulação.\n",
    "\n",
    "A colaboração CYGNO começou a desenvolver algoritmos utilizando softwares capazes de simular a interações físicas que ocorrem no interior do detector e transforma-las em imagens. Um exemplo é mostrado a abaixo:"
   ]
  },
  {
   "cell_type": "code",
   "execution_count": 3,
   "metadata": {},
   "outputs": [],
   "source": [
    "## Importanto bibliotecas úteis\n",
    "import numpy as np\n",
    "import matplotlib.pyplot as plt\n",
    "from scipy.ndimage import convolve\n",
    "from scipy import signal\n",
    "import h5py\n",
    "import glob\n",
    "import itertools\n",
    "import pandas as pd\n",
    "import seaborn as sns"
   ]
  },
  {
   "cell_type": "code",
   "execution_count": 2,
   "metadata": {},
   "outputs": [
    {
     "data": {
      "text/plain": [
       "['../data/Runs001/first_simulations.h5']"
      ]
     },
     "execution_count": 2,
     "metadata": {},
     "output_type": "execute_result"
    }
   ],
   "source": [
    "folder = '../data/Runs001'\n",
    "# lista com todos os arquivos dentro da pasta .h5\n",
    "fullFiles  = glob.glob(folder + '/*.h5')\n",
    "fullFiles"
   ]
  },
  {
   "cell_type": "code",
   "execution_count": 3,
   "metadata": {},
   "outputs": [
    {
     "data": {
      "text/plain": [
       "(1300, 800)"
      ]
     },
     "execution_count": 3,
     "metadata": {},
     "output_type": "execute_result"
    },
    {
     "data": {
      "image/png": "[encoded data removed]",
      "text/plain": [
       "<Figure size 504x360 with 2 Axes>"
      ]
     },
     "metadata": {
      "needs_background": "light"
     },
     "output_type": "display_data"
    }
   ],
   "source": [
    "## Leitura dos arquivos\n",
    "from mpl_toolkits.axes_grid1 import make_axes_locatable\n",
    "f          = h5py.File(fullFiles[0],'r')\n",
    "fig,ax = plt.subplots(1,1,figsize = (7,5))\n",
    "divider = make_axes_locatable(ax)\n",
    "im = ax.imshow(f['y_train'][0,:].reshape(2048,2048),cmap = 'gray')\n",
    "cax = divider.append_axes('right', size='5%', pad=0.05)\n",
    "fig.colorbar(im, cax=cax, orientation='vertical')\n",
    "ax.set_xlim([900,1200])\n",
    "ax.set_ylim([1300,800])"
   ]
  },
  {
   "cell_type": "markdown",
   "metadata": {},
   "source": [
    "Munidos de uma imagem de simulação, fica bem claro onde encontramos os pixels que formam os tracks. Na escala de cinza, pode-se notar que o fundo da imagem apresenta valor zero e os pixels considerados traço estão acima desse valor, portanto podemos saber a localização destes pixels na imagem, como mostrado abaixo:"
   ]
  },
  {
   "cell_type": "code",
   "execution_count": null,
   "metadata": {},
   "outputs": [
    {
     "data": {
      "text/plain": [
       "(1300, 800)"
      ]
     },
     "execution_count": 4,
     "metadata": {},
     "output_type": "execute_result"
    },
    {
     "data": {
      "image/png": "[encoded data removed]",
      "text/plain": [
       "<Figure size 504x360 with 1 Axes>"
      ]
     },
     "metadata": {
      "needs_background": "light"
     },
     "output_type": "display_data"
    }
   ],
   "source": [
    "## Leitura dos arquivos\n",
    "from mpl_toolkits.axes_grid1 import make_axes_locatable\n",
    "f          = h5py.File(fullFiles[0],'r')\n",
    "fig,ax = plt.subplots(1,1,figsize = (7,5))\n",
    "im = ax.imshow(f['y_train'][0,:].reshape(2048,2048)>0,cmap = 'gray')\n",
    "ax.set_xlim([900,1200])\n",
    "ax.set_ylim([1300,800])"
   ]
  },
  {
   "cell_type": "markdown",
   "metadata": {},
   "source": [
    "Conhecendo a localização dos pixels, podemos desenvolver algoritmos que trabalhem para identificar quais pixels compoẽm o traço e quais pixels podem ser rejeitados. Como agora possuímos uma imagem \"verdade\" onde podemos recorrer, aplicaremos várias técnicas de forma a otimizar a eficiência de cada método comparando sempre com a imagem verdade.\n",
    "\n",
    "Abaixo propomos um esquema de avaliação das técnicas utilizadas:\n",
    "\n",
    "\n",
    "<img src=\"images/diagrama.png\" />\n",
    "\n",
    "1. Imagem de Simulação: Imagem geradas pela colaboração através do software garfield++ capazes de simular todas as interações físicas que ocorrem no interior do detector;\n",
    "\n",
    "2. Ruído: Visualmente o ruído da imagem pode ser caracterizado por um valor de fundo constante (pedestal) somado a variações de intensidade dos pixels pertencentes á imagem em torno deste valor referência. As imagens de simulação não inserem o ruído eletrônico proveniente do sistema de leitura e portanto foi feito um estudo deste ruído de forma a criar uma simulação para adiciona-lo à imagem;\n",
    "\n",
    "3. Pré-processamento: Com a imagem ruidosa, aplicaremos técnicas de pré-processamento (filtragem, redes neurais convolucionais..) para identificação dos pixels.\n",
    "\n",
    "4. Clusterização: Após o pré-processamento, teremos vários clusters que formando a imagem e fica a cargo destes algoritmos identificar os pixels que fazem parte do mesmo cluster.\n",
    "\n",
    "5. Eficiência: Com os clusters definidos podemos medir a eficência pelo numero de pixels que foram reconhecidos como traço e os pixels que realmente formam o traço, além disso, também podemos avaliar a esta mesma relação para pixels que não fazem parte do traço.\n",
    "\n",
    "Com essas etapas bem definidas, entraremos no desenvolvimento de cada etapa exibindo a construção dos algoritmos e as conclusões a cerca de cada uma.\n",
    "\n"
   ]
  },
  {
   "cell_type": "markdown",
   "metadata": {},
   "source": [
    "## Caracterização do ruído\n",
    "\n",
    "Para caracterização do ruído, utilizamos bancos de dados gerados com o detector desligado, ou seja, sem enventos de interesse. Com isso, a única informação observada foi o ruído proveniente da eletrônica de leitura do detector.\n",
    "\n",
    "Os bancos de dados cedidos pela colaboração para análise foram o Run817, Run818, Run819 e Run820 onde cada Run é composto por 100 imagens. A variável de mudança em cada Run é o tempo de obturação da câmera. \n",
    "\n",
    "<img src=\"images/run.png\" />\n",
    "\n",
    "\n",
    "\n",
    "\n",
    "Algumas técnicas para caracterização do ruído foram criadas utilizando características observadas nas imagens. A primeira consistiu em considerar a distribuição de intensidade de ruídos dos pixels e propor a geração dos pixels de ruído a partir da função densidade de probabilidade das intensidades dos pixels (paramétrica ou não). Isso não funcionou muito bem devido a observação de uma variação do ruído ao longo do tempo e de acordo com algumas condições no interior do detector. Portanto, a alternativa escolhida foi gerar os pixels baseados em sua distribuição de intensidades ao longo do tempo, de forma a melhorar a geração dos mesmos.\n",
    "\n",
    "A ideia principal é que cada pixel tem sua própria distribuição de probabilidade e então, devemos definir quem são essas funções, seus parâmetros e o relacionamento entre essas funções (relacionamento entre pixels). Desta forma a caracterização do ruído pode ser segmentada nas seguintes etapas:\n",
    "\n",
    "1. Entendimento dos runs\n",
    "2. Identificação da distribuição dos pixels\n",
    "3. Extração dos parâmetros das distribuições definidas\n",
    "4. Verificação do relacionamento entre distribuições de pixels vizinhos"
   ]
  },
  {
   "cell_type": "markdown",
   "metadata": {},
   "source": [
    "### Entendimento dos runs"
   ]
  },
  {
   "cell_type": "code",
   "execution_count": 4,
   "metadata": {},
   "outputs": [],
   "source": [
    "## get images\n",
    "\n",
    "def read_image_h5(file):\n",
    "    # https://www.getdatajoy.com/learn/Read_and_Write_HDF5_from_Python#Reading_Data_from_HDF5_Files\n",
    "    import numpy as np\n",
    "    import h5py\n",
    "    with h5py.File(file,'r') as hf:\n",
    "        data = hf.get('Image')\n",
    "        np_data = np.array(data)\n",
    "    return np_data \n",
    "\n",
    "def get_noise_image(run,nTracks):\n",
    "    tag = \"%05d\"\n",
    "    shape     = (2048,2048) + (len(nTracks),)\n",
    "    noiseData = np.zeros(shape)\n",
    "    for i,trackNumber in list(enumerate(nTracks)):\n",
    "         file        = '../../noise_database/Run'+str(run)+'/run' + str(run) + '-' + tag % trackNumber + '.h5'\n",
    "         image       = read_image_h5(file)\n",
    "         noiseData[:,:,i] = image\n",
    "         #print('*')   \n",
    "         #print(\"getting data from\" + file)\n",
    "         \n",
    "    return noiseData     "
   ]
  },
  {
   "cell_type": "code",
   "execution_count": 5,
   "metadata": {},
   "outputs": [
    {
     "ename": "MemoryError",
     "evalue": "",
     "output_type": "error",
     "traceback": [
      "\u001b[0;31m---------------------------------------------------------------------------\u001b[0m",
      "\u001b[0;31mMemoryError\u001b[0m                               Traceback (most recent call last)",
      "\u001b[0;32m<ipython-input-5-615e35c73d73>\u001b[0m in \u001b[0;36m<module>\u001b[0;34m\u001b[0m\n\u001b[1;32m      6\u001b[0m     \u001b[0mnoise\u001b[0m\u001b[0;34m[\u001b[0m\u001b[0mstr\u001b[0m\u001b[0;34m(\u001b[0m\u001b[0mrun\u001b[0m\u001b[0;34m)\u001b[0m\u001b[0;34m]\u001b[0m \u001b[0;34m=\u001b[0m \u001b[0mget_noise_image\u001b[0m\u001b[0;34m(\u001b[0m\u001b[0mrun\u001b[0m\u001b[0;34m,\u001b[0m\u001b[0mv_tracks\u001b[0m\u001b[0;34m)\u001b[0m\u001b[0;34m\u001b[0m\u001b[0;34m\u001b[0m\u001b[0m\n\u001b[1;32m      7\u001b[0m     \u001b[0mpixels_statistics\u001b[0m\u001b[0;34m[\u001b[0m\u001b[0;34m'mean_'\u001b[0m\u001b[0;34m+\u001b[0m\u001b[0mstr\u001b[0m\u001b[0;34m(\u001b[0m\u001b[0mrun\u001b[0m\u001b[0;34m)\u001b[0m\u001b[0;34m]\u001b[0m \u001b[0;34m=\u001b[0m \u001b[0;34m(\u001b[0m\u001b[0mnoise\u001b[0m\u001b[0;34m[\u001b[0m\u001b[0mstr\u001b[0m\u001b[0;34m(\u001b[0m\u001b[0mrun\u001b[0m\u001b[0;34m)\u001b[0m\u001b[0;34m]\u001b[0m\u001b[0;34m.\u001b[0m\u001b[0mmean\u001b[0m\u001b[0;34m(\u001b[0m\u001b[0maxis\u001b[0m\u001b[0;34m=\u001b[0m\u001b[0;36m2\u001b[0m\u001b[0;34m)\u001b[0m\u001b[0;34m)\u001b[0m\u001b[0;34m.\u001b[0m\u001b[0mravel\u001b[0m\u001b[0;34m(\u001b[0m\u001b[0;34m)\u001b[0m\u001b[0;34m\u001b[0m\u001b[0;34m\u001b[0m\u001b[0m\n\u001b[0;32m----> 8\u001b[0;31m     \u001b[0mpixels_statistics\u001b[0m\u001b[0;34m[\u001b[0m\u001b[0;34m'std_'\u001b[0m\u001b[0;34m+\u001b[0m\u001b[0mstr\u001b[0m\u001b[0;34m(\u001b[0m\u001b[0mrun\u001b[0m\u001b[0;34m)\u001b[0m\u001b[0;34m]\u001b[0m \u001b[0;34m=\u001b[0m \u001b[0;34m(\u001b[0m\u001b[0mnoise\u001b[0m\u001b[0;34m[\u001b[0m\u001b[0mstr\u001b[0m\u001b[0;34m(\u001b[0m\u001b[0mrun\u001b[0m\u001b[0;34m)\u001b[0m\u001b[0;34m]\u001b[0m\u001b[0;34m.\u001b[0m\u001b[0mstd\u001b[0m\u001b[0;34m(\u001b[0m\u001b[0maxis\u001b[0m\u001b[0;34m=\u001b[0m\u001b[0;36m2\u001b[0m\u001b[0;34m)\u001b[0m\u001b[0;34m)\u001b[0m\u001b[0;34m.\u001b[0m\u001b[0mravel\u001b[0m\u001b[0;34m(\u001b[0m\u001b[0;34m)\u001b[0m\u001b[0;34m\u001b[0m\u001b[0;34m\u001b[0m\u001b[0m\n\u001b[0m\u001b[1;32m      9\u001b[0m \u001b[0mpixels_statistics\u001b[0m \u001b[0;34m=\u001b[0m \u001b[0mpd\u001b[0m\u001b[0;34m.\u001b[0m\u001b[0mDataFrame\u001b[0m\u001b[0;34m.\u001b[0m\u001b[0mfrom_dict\u001b[0m\u001b[0;34m(\u001b[0m\u001b[0mpixels_statistics\u001b[0m\u001b[0;34m)\u001b[0m\u001b[0;34m\u001b[0m\u001b[0;34m\u001b[0m\u001b[0m\n",
      "\u001b[0;32m~/anaconda3/lib/python3.6/site-packages/numpy/core/_methods.py\u001b[0m in \u001b[0;36m_std\u001b[0;34m(a, axis, dtype, out, ddof, keepdims)\u001b[0m\n\u001b[1;32m    133\u001b[0m \u001b[0;32mdef\u001b[0m \u001b[0m_std\u001b[0m\u001b[0;34m(\u001b[0m\u001b[0ma\u001b[0m\u001b[0;34m,\u001b[0m \u001b[0maxis\u001b[0m\u001b[0;34m=\u001b[0m\u001b[0;32mNone\u001b[0m\u001b[0;34m,\u001b[0m \u001b[0mdtype\u001b[0m\u001b[0;34m=\u001b[0m\u001b[0;32mNone\u001b[0m\u001b[0;34m,\u001b[0m \u001b[0mout\u001b[0m\u001b[0;34m=\u001b[0m\u001b[0;32mNone\u001b[0m\u001b[0;34m,\u001b[0m \u001b[0mddof\u001b[0m\u001b[0;34m=\u001b[0m\u001b[0;36m0\u001b[0m\u001b[0;34m,\u001b[0m \u001b[0mkeepdims\u001b[0m\u001b[0;34m=\u001b[0m\u001b[0;32mFalse\u001b[0m\u001b[0;34m)\u001b[0m\u001b[0;34m:\u001b[0m\u001b[0;34m\u001b[0m\u001b[0;34m\u001b[0m\u001b[0m\n\u001b[1;32m    134\u001b[0m     ret = _var(a, axis=axis, dtype=dtype, out=out, ddof=ddof,\n\u001b[0;32m--> 135\u001b[0;31m                keepdims=keepdims)\n\u001b[0m\u001b[1;32m    136\u001b[0m \u001b[0;34m\u001b[0m\u001b[0m\n\u001b[1;32m    137\u001b[0m     \u001b[0;32mif\u001b[0m \u001b[0misinstance\u001b[0m\u001b[0;34m(\u001b[0m\u001b[0mret\u001b[0m\u001b[0;34m,\u001b[0m \u001b[0mmu\u001b[0m\u001b[0;34m.\u001b[0m\u001b[0mndarray\u001b[0m\u001b[0;34m)\u001b[0m\u001b[0;34m:\u001b[0m\u001b[0;34m\u001b[0m\u001b[0;34m\u001b[0m\u001b[0m\n",
      "\u001b[0;32m~/anaconda3/lib/python3.6/site-packages/numpy/core/_methods.py\u001b[0m in \u001b[0;36m_var\u001b[0;34m(a, axis, dtype, out, ddof, keepdims)\u001b[0m\n\u001b[1;32m    110\u001b[0m     \u001b[0;31m# Note that x may not be inexact and that we need it to be an array,\u001b[0m\u001b[0;34m\u001b[0m\u001b[0;34m\u001b[0m\u001b[0;34m\u001b[0m\u001b[0m\n\u001b[1;32m    111\u001b[0m     \u001b[0;31m# not a scalar.\u001b[0m\u001b[0;34m\u001b[0m\u001b[0;34m\u001b[0m\u001b[0;34m\u001b[0m\u001b[0m\n\u001b[0;32m--> 112\u001b[0;31m     \u001b[0mx\u001b[0m \u001b[0;34m=\u001b[0m \u001b[0masanyarray\u001b[0m\u001b[0;34m(\u001b[0m\u001b[0marr\u001b[0m \u001b[0;34m-\u001b[0m \u001b[0marrmean\u001b[0m\u001b[0;34m)\u001b[0m\u001b[0;34m\u001b[0m\u001b[0;34m\u001b[0m\u001b[0m\n\u001b[0m\u001b[1;32m    113\u001b[0m     \u001b[0;32mif\u001b[0m \u001b[0missubclass\u001b[0m\u001b[0;34m(\u001b[0m\u001b[0marr\u001b[0m\u001b[0;34m.\u001b[0m\u001b[0mdtype\u001b[0m\u001b[0;34m.\u001b[0m\u001b[0mtype\u001b[0m\u001b[0;34m,\u001b[0m \u001b[0mnt\u001b[0m\u001b[0;34m.\u001b[0m\u001b[0mcomplexfloating\u001b[0m\u001b[0;34m)\u001b[0m\u001b[0;34m:\u001b[0m\u001b[0;34m\u001b[0m\u001b[0;34m\u001b[0m\u001b[0m\n\u001b[1;32m    114\u001b[0m         \u001b[0mx\u001b[0m \u001b[0;34m=\u001b[0m \u001b[0mum\u001b[0m\u001b[0;34m.\u001b[0m\u001b[0mmultiply\u001b[0m\u001b[0;34m(\u001b[0m\u001b[0mx\u001b[0m\u001b[0;34m,\u001b[0m \u001b[0mum\u001b[0m\u001b[0;34m.\u001b[0m\u001b[0mconjugate\u001b[0m\u001b[0;34m(\u001b[0m\u001b[0mx\u001b[0m\u001b[0;34m)\u001b[0m\u001b[0;34m,\u001b[0m \u001b[0mout\u001b[0m\u001b[0;34m=\u001b[0m\u001b[0mx\u001b[0m\u001b[0;34m)\u001b[0m\u001b[0;34m.\u001b[0m\u001b[0mreal\u001b[0m\u001b[0;34m\u001b[0m\u001b[0;34m\u001b[0m\u001b[0m\n",
      "\u001b[0;31mMemoryError\u001b[0m: "
     ]
    }
   ],
   "source": [
    "noise = {}\n",
    "pixels_statistics = {}\n",
    "v_tracks = range(0,100) # lendo 50 primeiras imagens\n",
    "runs = [817,818,819,820]\n",
    "for run in runs:\n",
    "    noise[str(run)] = get_noise_image(run,v_tracks)\n",
    "    pixels_statistics['mean_'+str(run)] = (noise[str(run)].mean(axis=2)).ravel()\n",
    "    pixels_statistics['std_'+str(run)] = (noise[str(run)].std(axis=2)).ravel()\n",
    "pixels_statistics = pd.DataFrame.from_dict(pixels_statistics)    "
   ]
  },
  {
   "cell_type": "code",
   "execution_count": null,
   "metadata": {},
   "outputs": [],
   "source": []
  },
  {
   "cell_type": "markdown",
   "metadata": {},
   "source": [
    "Analisando a distribuição de cada pixel, podemos extrair parâmetros que podem nos ajudar no entendimento de suas características estatísticas. A primeira coisa que foi observado é se média e variância (ou desvio padrão) se mantinham constantes idenpendente do pixel e independente do Run. \n",
    "\n",
    "Extraimos as 50 primeiras amostras de cada pixel, e estimamos a média e variância dessas amostras. Como cada imagem possui 2048x2048 pixels, temos um número de amostras de média e std nesta ordem de grandeza.\n",
    "\n",
    "\n",
    "O resultado pode ser exibido através de boxplots que facilitam a visualização destas grandezas. "
   ]
  },
  {
   "cell_type": "code",
   "execution_count": null,
   "metadata": {},
   "outputs": [],
   "source": [
    "plt.figure(figsize=(10,7))\n",
    "pixels_statistics.boxplot(column=['mean_817','mean_818','mean_819','mean_820'])\n",
    "plt.ylim([96,105])\n",
    "plt.title('Distribuição das médias dos pixels')"
   ]
  },
  {
   "cell_type": "code",
   "execution_count": null,
   "metadata": {},
   "outputs": [],
   "source": [
    "plt.figure(figsize=(10,7))\n",
    "pixels_statistics.boxplot(column=['std_817','std_818','std_819','std_820'])\n",
    "plt.ylim([0,5])\n",
    "plt.title('Distribuição dos desvios padrões dos pixels')"
   ]
  },
  {
   "cell_type": "markdown",
   "metadata": {},
   "source": [
    "Como podemos observar as distribuições variam de acordo com o run e também o número de outliers variam de acordo com o run( runs menores tendem a ter menos outliers). Isto pode ser visto melhor quando removemos o zoom dos plots"
   ]
  },
  {
   "cell_type": "code",
   "execution_count": null,
   "metadata": {},
   "outputs": [],
   "source": [
    "plt.figure(figsize=(10,7))\n",
    "pixels_statistics.boxplot(column=['mean_817','mean_818','mean_819','mean_820'])\n",
    "#plt.ylim([96,105])\n",
    "plt.title('Distribuição das médias dos pixels')"
   ]
  },
  {
   "cell_type": "code",
   "execution_count": null,
   "metadata": {},
   "outputs": [],
   "source": [
    "plt.figure(figsize=(10,7))\n",
    "pixels_statistics.boxplot(column=['std_817','std_818','std_819','std_820'])\n",
    "#plt.ylim([0,5])\n",
    "plt.title('Distribuição dos desvios padrões dos pixels')"
   ]
  },
  {
   "cell_type": "markdown",
   "metadata": {},
   "source": [
    "A próxima pergunta que podemos fazer é se há alguma correlação entre a média das distribuição dos pixels e o desvio padrão destas mesmas distribuições. Essa pergunta pode ser respondida através dos scatters plots de cada run, mostrados nas figuras abaixo"
   ]
  },
  {
   "cell_type": "code",
   "execution_count": null,
   "metadata": {},
   "outputs": [],
   "source": [
    "fig,ax = plt.subplots(2,2,figsize=(15,10))\n",
    "ax = ax.ravel()\n",
    "ax[0].scatter(pixels_statistics['mean_817'],pixels_statistics['std_817'], color = 'red',alpha = 0.3)\n",
    "ax[0].grid()\n",
    "ax[0].set_xlim([0,2500])\n",
    "ax[0].set_ylim([0,100])\n",
    "ax[0].set_title('Run 817')\n",
    "ax[0].set_xlabel(r'$\\mu$')\n",
    "ax[0].set_ylabel(r'$\\sigma$')\n",
    "\n",
    "ax[1].scatter(pixels_statistics['mean_818'],pixels_statistics['std_818'], color = 'green',alpha = 0.3)\n",
    "ax[1].grid()\n",
    "ax[1].set_xlim([0,2500])\n",
    "ax[1].set_ylim([0,100])\n",
    "ax[1].set_title('Run 818')\n",
    "ax[1].set_xlabel(r'$\\mu$')\n",
    "ax[1].set_ylabel(r'$\\sigma$')\n",
    "\n",
    "ax[2].scatter(pixels_statistics['mean_819'],pixels_statistics['std_819'], color = 'blue',alpha = 0.3)\n",
    "ax[2].grid()\n",
    "ax[2].set_xlim([0,2500])\n",
    "ax[2].set_ylim([0,100])\n",
    "ax[2].set_title('Run 819')\n",
    "ax[2].set_xlabel(r'$\\mu$')\n",
    "ax[2].set_ylabel(r'$\\sigma$')\n",
    "\n",
    "ax[3].scatter(pixels_statistics['mean_820'],pixels_statistics['std_820'], color = 'yellow',alpha = 0.3)\n",
    "ax[3].grid()\n",
    "ax[3].set_xlim([0,2500])\n",
    "ax[3].set_ylim([0,100])\n",
    "ax[3].set_title('Run 820')\n",
    "ax[3].set_xlabel(r'$\\mu$')\n",
    "ax[3].set_ylabel(r'$\\sigma$')"
   ]
  },
  {
   "cell_type": "markdown",
   "metadata": {},
   "source": [
    "Variando o run é possível observar o aparecimento de alguns grupos onde há correlação entre média e variância, principalmente nos runs com maiores níveis de ruído (820 por exemplo). Este comportamento pode ser aprofundado em um estudo completo sobre o ruído da eletrônica de leitura. Como nosso objetivo é apenas simular este ruído, nossa única preocupação é que o nosso ruído simulado apresente estas mesmas características"
   ]
  },
  {
   "cell_type": "markdown",
   "metadata": {},
   "source": [
    "### Escolha de uma distribuição para simulação dos pixels de ruído\n",
    "\n",
    "Agora nós iremos nos preocupar em determinar qual é a distribuição de cada pixel e se os pixels apresentam mesma distribuição (variando somente os parâmetros da mesma).\n",
    "\n",
    "Primeiramente observamos os histogramas dessas distribuições para verificar se há similaridade com alguma distribuição conhecida."
   ]
  },
  {
   "cell_type": "code",
   "execution_count": null,
   "metadata": {},
   "outputs": [],
   "source": [
    "plt.hist(noise['817'][1,1,:],histtype = 'step',color = 'black',bins = 'scott')"
   ]
  },
  {
   "cell_type": "code",
   "execution_count": null,
   "metadata": {},
   "outputs": [],
   "source": []
  }
 ],
 "metadata": {
  "kernelspec": {
   "display_name": "Python 3",
   "language": "python",
   "name": "python3"
  },
  "language_info": {
   "codemirror_mode": {
    "name": "ipython",
    "version": 3
   },
   "file_extension": ".py",
   "mimetype": "text/x-python",
   "name": "python",
   "nbconvert_exporter": "python",
   "pygments_lexer": "ipython3",
   "version": "3.6.8"
  }
 },
 "nbformat": 4,
 "nbformat_minor": 2
}
